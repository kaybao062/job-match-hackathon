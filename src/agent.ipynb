{
 "cells": [
  {
   "cell_type": "markdown",
   "id": "be86959d",
   "metadata": {},
   "source": [
    "## Build an agent"
   ]
  },
  {
   "cell_type": "code",
   "execution_count": 8,
   "id": "d453ca82",
   "metadata": {},
   "outputs": [
    {
     "name": "stdout",
     "output_type": "stream",
     "text": [
      "New directory: /Users/kay/Desktop/job-match-hackathon\n"
     ]
    }
   ],
   "source": [
    "import os\n",
    "# os.getcwd()\n",
    "os.chdir(\"/Users/kay/Desktop/job-match-hackathon\")\n",
    "print(\"New directory:\", os.getcwd())"
   ]
  },
  {
   "cell_type": "code",
   "execution_count": 9,
   "id": "bb5a7db5",
   "metadata": {},
   "outputs": [],
   "source": [
    "# Import relevant functionality\n",
    "# from langchain_anthropic import ChatAnthropic\n",
    "# from langchain_community.tools.tavily_search import TavilySearchResults\n",
    "from dotenv import load_dotenv\n",
    "from langchain_core.messages import HumanMessage\n",
    "from langgraph.checkpoint.memory import MemorySaver\n",
    "from langgraph.prebuilt import create_react_agent\n",
    "from langchain_community.chat_models import ChatOllama\n",
    "from langchain_ollama.llms import OllamaLLM\n",
    "import getpass\n",
    "from dotenv import load_dotenv\n",
    "\n",
    "import importlib\n",
    "import src.query_engine  # your module\n"
   ]
  },
  {
   "cell_type": "code",
   "execution_count": 10,
   "id": "9f29067b",
   "metadata": {},
   "outputs": [],
   "source": [
    "# %%capture --no-stderr\n",
    "# %pip install --quiet -U langchain langchain_community tiktoken langchain-mistralai scikit-learn langgraph tavily-python bs4\n",
    "\n"
   ]
  },
  {
   "cell_type": "markdown",
   "id": "0f138d80",
   "metadata": {},
   "source": [
    "### Initiate Langsmith"
   ]
  },
  {
   "cell_type": "code",
   "execution_count": 11,
   "id": "1232430b",
   "metadata": {},
   "outputs": [],
   "source": [
    "import os, getpass\n",
    "\n",
    "def _set_env(var: str):\n",
    "    if not os.environ.get(var):\n",
    "        os.environ[var] = getpass.getpass(f\"{var}: \")\n",
    "\n",
    "_set_env(\"MISTRAL_API_KEY\")\n",
    "# _set_env(\"TAVILY_API_KEY\")\n",
    "os.environ['TOKENIZERS_PARALLELISM'] = 'true'"
   ]
  },
  {
   "cell_type": "code",
   "execution_count": 12,
   "id": "4a5f5c83",
   "metadata": {},
   "outputs": [
    {
     "data": {
      "text/plain": [
       "True"
      ]
     },
     "execution_count": 12,
     "metadata": {},
     "output_type": "execute_result"
    }
   ],
   "source": [
    "# Load environment variables from .env file\n",
    "load_dotenv()"
   ]
  },
  {
   "cell_type": "markdown",
   "id": "139ad0e8",
   "metadata": {},
   "source": [
    "### Define tools of index and query"
   ]
  },
  {
   "cell_type": "code",
   "execution_count": 13,
   "id": "3e2a79f8",
   "metadata": {},
   "outputs": [],
   "source": [
    "from src.query_engine import QueryEngine\n",
    "from src.tools import tools"
   ]
  },
  {
   "cell_type": "code",
   "execution_count": 14,
   "id": "adf1b799",
   "metadata": {},
   "outputs": [],
   "source": [
    "# tools = [tools]"
   ]
  },
  {
   "cell_type": "markdown",
   "id": "4b2a4027",
   "metadata": {},
   "source": [
    "### Instantiate agent"
   ]
  },
  {
   "cell_type": "code",
   "execution_count": 15,
   "id": "3cff3744",
   "metadata": {},
   "outputs": [],
   "source": [
    "from langchain.chat_models import init_chat_model\n",
    "\n",
    "model = init_chat_model(\"mistral-small-latest\", model_provider=\"mistralai\")"
   ]
  },
  {
   "cell_type": "code",
   "execution_count": 16,
   "id": "5c0e286f",
   "metadata": {},
   "outputs": [],
   "source": [
    "from langchain_core.messages import HumanMessage\n",
    "\n",
    "# response = model.invoke([HumanMessage(content=\"hi!\")])\n",
    "# response.content"
   ]
  },
  {
   "cell_type": "markdown",
   "id": "70f67772",
   "metadata": {},
   "source": [
    "### Function calling"
   ]
  },
  {
   "cell_type": "code",
   "execution_count": 17,
   "id": "08d1d85d",
   "metadata": {},
   "outputs": [
    {
     "data": {
      "text/plain": [
       "[StructuredTool(name='QueryEngine', description='Use this tool when user input a resume message to retrieve and rank jobs.', args_schema=<class 'langchain_core.utils.pydantic.QueryEngine'>, return_direct=True, func=<function QueryEngine at 0x1097f27a0>)]"
      ]
     },
     "execution_count": 17,
     "metadata": {},
     "output_type": "execute_result"
    }
   ],
   "source": [
    "importlib.reload(src.query_engine)\n",
    "from src.query_engine import QueryEngine\n",
    "\n",
    "tools = [QueryEngine]\n",
    "\n",
    "tools"
   ]
  },
  {
   "cell_type": "code",
   "execution_count": 18,
   "id": "6fbf147d",
   "metadata": {},
   "outputs": [],
   "source": [
    "model_with_tools = model.bind_tools(tools)"
   ]
  },
  {
   "cell_type": "code",
   "execution_count": 19,
   "id": "d7d3c949",
   "metadata": {},
   "outputs": [],
   "source": [
    "# response = model_with_tools.invoke([HumanMessage(content=\"YIJIN BAO\\n\\n\\t\\t+1-773-490-7200\\n\\n\\t\\tChicago, Illinois\\n\\n\\t\\tkay062@uchicago.edu, LinkedIn | GitHub\\n\\n\\n\\n\\n\\neducation\\n\\n\\tHarris School of Public Policy, University of Chicago\\tChicago, IL\\n\\n\\tData Analytics Specialization of Master of Public Policy (MPP), Graduate with Honor\\tJune 2024\\n\\nData Science: ETL pipeline, NLP, Deep Learning, Machine Learning, Computer Vision\\n\\nData Analytics: data collection, management, cleaning, manipulation, sanity check, analysis, visualization, GIS\\n\\nPublic Policy analysis: modeling and research for transportation policy, healthcare policy, urban policy\\n\\nBusiness data product: dashboard design, interactive chatbot, database management, automated workflows\\n\\n\\n\\n\\tShanghai International Studies University\\tShanghai, China\\n\\n\\tDual Bachelor of Laws and English, Outstanding Undergraduate Thesis Honor\\tJuly 2022\\n\\nInternational Law; International Economics Law; International Finance Law\\n\\nHonored Student Scholarship in 2018-2019 Academic Year\\n\\nStudent Union President (2020-2021): maintained alumni network and organize career networking events\\n\\n\\n\\nexperience\\n\\n\\tUnited nations statisticS DIVISION\\tHybrid\\n\\n\\tStatistical Intern using Python\\t February 2025 – June 2025\\n\\nDeveloped a web-scraping program using Amazon Bedrock, called Claude Sonnet 3 model and engineered prompt to optimize AI’s performance of the accurate collection of unstructured event data from international organizations’ websites\\n\\nAutomated and the scraping and processing of user interaction data of Global Network of Data Officers and Statisticians, continuously refining the process and analyzing participation trends to enhance outreach and network management\\n\\n\\n\\nIllinois Criminal Justice information authority\\t                                                                               Chicago, IL\\n\\n\\tState Government Agency | Research Analysis Intern using R, SQL\\tOct 2024 – Mar 2025, June 2023 – Aug 2023\\n\\nEngineered a highly automated data pipeline to efficiently extract from PDF, convert to R-readable format and integrate 50 years of federal disposition data, pre-processed data for analysis and conduct sanity check with complete documentation  \\n\\nCleaned, validated, and transformed a 20GB+ Illinois Traffic Stop dataset (2004–2022) to ensure data quality, standardize formats, and generate performance metrics, enabling statistical analysis of equity in police pull-overs, including visualizing hit rates and false alarm rates by race and police agency as part of the Veil of Darkness analysis\\n\\nAudited data of Illinois Death in Custody Reporting from 2019 to 2024 by developing a program to automate matching and identify unreported incidents through cross-referencing manually collected media-reported cases \\n\\n\\n\\n\\tRural Advancement Foundation International (RAFI)\\tChicago, IL\\n\\n\\tNGO for Economic Justice | Data science fellow at Data Science Clinic using Python\\t Jan 2024 – Mar 2024\\n\\nDeveloped and maintained a Streamlit dashboard to visualize 30 years of market trends across 3,455 auction houses, supporting RAFI’s efforts to convey findings to a Federal Government Agency for digitalization of contracts\\n\\nImproved a computer vision model’s poultry estimation accuracy by ~10% (~2,000 barns) using buffer analysis with Google Earth Engine, enhancing RAFI’s dashboard to capture market trends of 20,000+ poultry barns in North Carolina\\n\\nPresented a technical brief outlining data merging strategies, dashboard development, market capture and model enhancements to provide the client with a clear understanding of technical product and analysis results\\n\\n\\n\\n\\tIllinois department of employment safety\\tChicago, IL\\n\\n\\tState Employment Government Agency | Data analytics fellow at Policy Lab using R, Google Suites\\t Sept 2023 – Dec 2023\\n\\nSupported clients’ promotion of Unemployment Insurance equity by using SQL to extract datasets on 12,000 employees and 2,000+ applicants to create a merged individual level dataset with employment flux and application information\\n\\nDeveloped a metrics to identify the gap in laid-off workers’ participation in Unemployment Insurance and visualize it in Google Sheet and Slides to evaluate sectorial participation—region, industry, union vs. non-union, and company size\\n\\nCoordinated timely communications with the client on refining government outreach strategies and preventing further applicant attrition by maintaining information updates and delivering high-quality policy memo and presentation\\n\\n\\n\\n\\n\\nResearch publication\\n\\n\\tKuda-Singappulige, G., Green, E., Reichert, J., Bao Y., & Gruschow, K. (2025). Veil of darkness analysis of Illinois traffic stop data. Illinois Criminal Justice Information Authority.\\n\\nskills\\n\\n\\n\\nMS Office Suite: Word, Excel, Power Point, One Driver, Teams\\n\\nAI solutions: API integration, AWS cloud, prompt engineering, UI/UX design, data migration, deployment\\n\\nMachine Learning: feature engineering, dimensionality reduction, regularization, tree-based models, SVM, clustering, KNN\\n\\nData Visualization: Tableau, R(Shiny, sf, tmap, ggspatial, ggplot2), Python(Streamlit, GeoPandas, Seaborn, Matplotlib)\\n\\nNLP: Tokenization, summarization, embeddings, sentiment analysis, knowledge graphs, named entity recognition\\n\\nSQL, PostgreSQL: data management, filtering, aggregation, joining, extracting, interacting with R and Python\\n\\nPython (Boto, Langchain, Openai LLamaIndex, Pandas, NumPy, SpaCy, BeautifulSoup, Selenium)\\n\\nR (data.table, date.time, dplyr, tidyverse, plotly, viridis, Shiny)\\n\\nMS Office Suite: Word, Excel, Power Point, One Driver, Teams\")])\n",
    "\n",
    "# print(f\"ContentString: {response.content}\")\n",
    "# print(f\"ToolCalls: {response.tool_calls}\")"
   ]
  },
  {
   "cell_type": "markdown",
   "id": "a82d8304",
   "metadata": {},
   "source": [
    "### Create the agent"
   ]
  },
  {
   "cell_type": "code",
   "execution_count": 20,
   "id": "080bcb76",
   "metadata": {},
   "outputs": [],
   "source": [
    "from langgraph.prebuilt import create_react_agent\n",
    "\n",
    "agent_executor = create_react_agent(model, tools)"
   ]
  },
  {
   "cell_type": "markdown",
   "id": "ed1168f7",
   "metadata": {},
   "source": [
    "### Run the agent"
   ]
  },
  {
   "cell_type": "markdown",
   "id": "445174f7",
   "metadata": {},
   "source": [
    "#### Here should be replaced with front end upload: research how"
   ]
  },
  {
   "cell_type": "code",
   "execution_count": 21,
   "id": "3440502d",
   "metadata": {},
   "outputs": [
    {
     "data": {
      "text/plain": [
       "'YIJIN BAO\\n\\n\\t\\t+1-773-490-7200\\n\\n\\t\\tChicago, Illinois\\n\\n\\t\\tkay062@uchicago.edu, LinkedIn | GitHub\\n\\n\\n\\n\\n\\neducation\\n\\n\\tHarris School of Public Policy, University of Chicago\\tChicago, IL\\n\\n\\tData Analytics Specialization of Master of Public Policy (MPP), Graduate with Honor\\tJune 2024\\n\\nData Science: ETL pipeline, NLP, Deep Learning, Machine Learning, Computer Vision\\n\\nData Analytics: data collection, management, cleaning, manipulation, sanity check, analysis, visualization, GIS\\n\\nPublic Policy analysis: modeling and research for transportation policy, healthcare policy, urban policy\\n\\nBusiness data product: dashboard design, interactive chatbot, database management, automated workflows\\n\\n\\n\\n\\tShanghai International Studies University\\tShanghai, China\\n\\n\\tDual Bachelor of Laws and English, Outstanding Undergraduate Thesis Honor\\tJuly 2022\\n\\nInternational Law; International Economics Law; International Finance Law\\n\\nHonored Student Scholarship in 2018-2019 Academic Year\\n\\nStudent Union President (2020-2021): maintained alumni network and organize career networking events\\n\\n\\n\\nexperience\\n\\n\\tUnited nations statisticS DIVISION\\tHybrid\\n\\n\\tStatistical Intern using Python\\t February 2025 – June 2025\\n\\nDeveloped a web-scraping program using Amazon Bedrock, called Claude Sonnet 3 model and engineered prompt to optimize AI’s performance of the accurate collection of unstructured event data from international organizations’ websites\\n\\nAutomated and the scraping and processing of user interaction data of Global Network of Data Officers and Statisticians, continuously refining the process and analyzing participation trends to enhance outreach and network management\\n\\n\\n\\nIllinois Criminal Justice information authority\\t                                                                               Chicago, IL\\n\\n\\tState Government Agency | Research Analysis Intern using R, SQL\\tOct 2024 – Mar 2025, June 2023 – Aug 2023\\n\\nEngineered a highly automated data pipeline to efficiently extract from PDF, convert to R-readable format and integrate 50 years of federal disposition data, pre-processed data for analysis and conduct sanity check with complete documentation  \\n\\nCleaned, validated, and transformed a 20GB+ Illinois Traffic Stop dataset (2004–2022) to ensure data quality, standardize formats, and generate performance metrics, enabling statistical analysis of equity in police pull-overs, including visualizing hit rates and false alarm rates by race and police agency as part of the Veil of Darkness analysis\\n\\nAudited data of Illinois Death in Custody Reporting from 2019 to 2024 by developing a program to automate matching and identify unreported incidents through cross-referencing manually collected media-reported cases \\n\\n\\n\\n\\tRural Advancement Foundation International (RAFI)\\tChicago, IL\\n\\n\\tNGO for Economic Justice | Data science fellow at Data Science Clinic using Python\\t Jan 2024 – Mar 2024\\n\\nDeveloped and maintained a Streamlit dashboard to visualize 30 years of market trends across 3,455 auction houses, supporting RAFI’s efforts to convey findings to a Federal Government Agency for digitalization of contracts\\n\\nImproved a computer vision model’s poultry estimation accuracy by ~10% (~2,000 barns) using buffer analysis with Google Earth Engine, enhancing RAFI’s dashboard to capture market trends of 20,000+ poultry barns in North Carolina\\n\\nPresented a technical brief outlining data merging strategies, dashboard development, market capture and model enhancements to provide the client with a clear understanding of technical product and analysis results\\n\\n\\n\\n\\tIllinois department of employment safety\\tChicago, IL\\n\\n\\tState Employment Government Agency | Data analytics fellow at Policy Lab using R, Google Suites\\t Sept 2023 – Dec 2023\\n\\nSupported clients’ promotion of Unemployment Insurance equity by using SQL to extract datasets on 12,000 employees and 2,000+ applicants to create a merged individual level dataset with employment flux and application information\\n\\nDeveloped a metrics to identify the gap in laid-off workers’ participation in Unemployment Insurance and visualize it in Google Sheet and Slides to evaluate sectorial participation—region, industry, union vs. non-union, and company size\\n\\nCoordinated timely communications with the client on refining government outreach strategies and preventing further applicant attrition by maintaining information updates and delivering high-quality policy memo and presentation\\n\\n\\n\\n\\n\\nResearch publication\\n\\n\\tKuda-Singappulige, G., Green, E., Reichert, J., Bao Y., & Gruschow, K. (2025). Veil of darkness analysis of Illinois traffic stop data. Illinois Criminal Justice Information Authority.\\n\\nskills\\n\\n\\n\\nMS Office Suite: Word, Excel, Power Point, One Driver, Teams\\n\\nAI solutions: API integration, AWS cloud, prompt engineering, UI/UX design, data migration, deployment\\n\\nMachine Learning: feature engineering, dimensionality reduction, regularization, tree-based models, SVM, clustering, KNN\\n\\nData Visualization: Tableau, R(Shiny, sf, tmap, ggspatial, ggplot2), Python(Streamlit, GeoPandas, Seaborn, Matplotlib)\\n\\nNLP: Tokenization, summarization, embeddings, sentiment analysis, knowledge graphs, named entity recognition\\n\\nSQL, PostgreSQL: data management, filtering, aggregation, joining, extracting, interacting with R and Python\\n\\nPython (Boto, Langchain, Openai LLamaIndex, Pandas, NumPy, SpaCy, BeautifulSoup, Selenium)\\n\\nR (data.table, date.time, dplyr, tidyverse, plotly, viridis, Shiny)\\n\\nMS Office Suite: Word, Excel, Power Point, One Driver, Teams'"
      ]
     },
     "execution_count": 21,
     "metadata": {},
     "output_type": "execute_result"
    }
   ],
   "source": [
    "from langchain_community.document_loaders import Docx2txtLoader\n",
    "loader = Docx2txtLoader(\"resume.docx\")\n",
    "\n",
    "data = loader.load()\n",
    "\n",
    "# Convert to a single string\n",
    "doc_text = \"\\n\".join([doc.page_content for doc in data])\n",
    "\n",
    "doc_text "
   ]
  },
  {
   "cell_type": "code",
   "execution_count": 22,
   "id": "8bde0aad",
   "metadata": {},
   "outputs": [],
   "source": [
    "prompt = f\"\"\"This is my resume. Please help me rank them based on my education, skills, and experience.\n",
    "\n",
    "Resume:\n",
    "{doc_text}\n",
    "\"\"\""
   ]
  },
  {
   "cell_type": "code",
   "execution_count": 23,
   "id": "aa853b7e",
   "metadata": {},
   "outputs": [
    {
     "name": "stdout",
     "output_type": "stream",
     "text": [
      "================================\u001b[1m Human Message \u001b[0m=================================\n",
      "\n",
      "This is my resume. Please help me rank them based on my education, skills, and experience.\n",
      "\n",
      "Resume:\n",
      "YIJIN BAO\n",
      "\n",
      "\t\t+1-773-490-7200\n",
      "\n",
      "\t\tChicago, Illinois\n",
      "\n",
      "\t\tkay062@uchicago.edu, LinkedIn | GitHub\n",
      "\n",
      "\n",
      "\n",
      "\n",
      "\n",
      "education\n",
      "\n",
      "\tHarris School of Public Policy, University of Chicago\tChicago, IL\n",
      "\n",
      "\tData Analytics Specialization of Master of Public Policy (MPP), Graduate with Honor\tJune 2024\n",
      "\n",
      "Data Science: ETL pipeline, NLP, Deep Learning, Machine Learning, Computer Vision\n",
      "\n",
      "Data Analytics: data collection, management, cleaning, manipulation, sanity check, analysis, visualization, GIS\n",
      "\n",
      "Public Policy analysis: modeling and research for transportation policy, healthcare policy, urban policy\n",
      "\n",
      "Business data product: dashboard design, interactive chatbot, database management, automated workflows\n",
      "\n",
      "\n",
      "\n",
      "\tShanghai International Studies University\tShanghai, China\n",
      "\n",
      "\tDual Bachelor of Laws and English, Outstanding Undergraduate Thesis Honor\tJuly 2022\n",
      "\n",
      "International Law; International Economics Law; International Finance Law\n",
      "\n",
      "Honored Student Scholarship in 2018-2019 Academic Year\n",
      "\n",
      "Student Union President (2020-2021): maintained alumni network and organize career networking events\n",
      "\n",
      "\n",
      "\n",
      "experience\n",
      "\n",
      "\tUnited nations statisticS DIVISION\tHybrid\n",
      "\n",
      "\tStatistical Intern using Python\t February 2025 – June 2025\n",
      "\n",
      "Developed a web-scraping program using Amazon Bedrock, called Claude Sonnet 3 model and engineered prompt to optimize AI’s performance of the accurate collection of unstructured event data from international organizations’ websites\n",
      "\n",
      "Automated and the scraping and processing of user interaction data of Global Network of Data Officers and Statisticians, continuously refining the process and analyzing participation trends to enhance outreach and network management\n",
      "\n",
      "\n",
      "\n",
      "Illinois Criminal Justice information authority\t                                                                               Chicago, IL\n",
      "\n",
      "\tState Government Agency | Research Analysis Intern using R, SQL\tOct 2024 – Mar 2025, June 2023 – Aug 2023\n",
      "\n",
      "Engineered a highly automated data pipeline to efficiently extract from PDF, convert to R-readable format and integrate 50 years of federal disposition data, pre-processed data for analysis and conduct sanity check with complete documentation  \n",
      "\n",
      "Cleaned, validated, and transformed a 20GB+ Illinois Traffic Stop dataset (2004–2022) to ensure data quality, standardize formats, and generate performance metrics, enabling statistical analysis of equity in police pull-overs, including visualizing hit rates and false alarm rates by race and police agency as part of the Veil of Darkness analysis\n",
      "\n",
      "Audited data of Illinois Death in Custody Reporting from 2019 to 2024 by developing a program to automate matching and identify unreported incidents through cross-referencing manually collected media-reported cases \n",
      "\n",
      "\n",
      "\n",
      "\tRural Advancement Foundation International (RAFI)\tChicago, IL\n",
      "\n",
      "\tNGO for Economic Justice | Data science fellow at Data Science Clinic using Python\t Jan 2024 – Mar 2024\n",
      "\n",
      "Developed and maintained a Streamlit dashboard to visualize 30 years of market trends across 3,455 auction houses, supporting RAFI’s efforts to convey findings to a Federal Government Agency for digitalization of contracts\n",
      "\n",
      "Improved a computer vision model’s poultry estimation accuracy by ~10% (~2,000 barns) using buffer analysis with Google Earth Engine, enhancing RAFI’s dashboard to capture market trends of 20,000+ poultry barns in North Carolina\n",
      "\n",
      "Presented a technical brief outlining data merging strategies, dashboard development, market capture and model enhancements to provide the client with a clear understanding of technical product and analysis results\n",
      "\n",
      "\n",
      "\n",
      "\tIllinois department of employment safety\tChicago, IL\n",
      "\n",
      "\tState Employment Government Agency | Data analytics fellow at Policy Lab using R, Google Suites\t Sept 2023 – Dec 2023\n",
      "\n",
      "Supported clients’ promotion of Unemployment Insurance equity by using SQL to extract datasets on 12,000 employees and 2,000+ applicants to create a merged individual level dataset with employment flux and application information\n",
      "\n",
      "Developed a metrics to identify the gap in laid-off workers’ participation in Unemployment Insurance and visualize it in Google Sheet and Slides to evaluate sectorial participation—region, industry, union vs. non-union, and company size\n",
      "\n",
      "Coordinated timely communications with the client on refining government outreach strategies and preventing further applicant attrition by maintaining information updates and delivering high-quality policy memo and presentation\n",
      "\n",
      "\n",
      "\n",
      "\n",
      "\n",
      "Research publication\n",
      "\n",
      "\tKuda-Singappulige, G., Green, E., Reichert, J., Bao Y., & Gruschow, K. (2025). Veil of darkness analysis of Illinois traffic stop data. Illinois Criminal Justice Information Authority.\n",
      "\n",
      "skills\n",
      "\n",
      "\n",
      "\n",
      "MS Office Suite: Word, Excel, Power Point, One Driver, Teams\n",
      "\n",
      "AI solutions: API integration, AWS cloud, prompt engineering, UI/UX design, data migration, deployment\n",
      "\n",
      "Machine Learning: feature engineering, dimensionality reduction, regularization, tree-based models, SVM, clustering, KNN\n",
      "\n",
      "Data Visualization: Tableau, R(Shiny, sf, tmap, ggspatial, ggplot2), Python(Streamlit, GeoPandas, Seaborn, Matplotlib)\n",
      "\n",
      "NLP: Tokenization, summarization, embeddings, sentiment analysis, knowledge graphs, named entity recognition\n",
      "\n",
      "SQL, PostgreSQL: data management, filtering, aggregation, joining, extracting, interacting with R and Python\n",
      "\n",
      "Python (Boto, Langchain, Openai LLamaIndex, Pandas, NumPy, SpaCy, BeautifulSoup, Selenium)\n",
      "\n",
      "R (data.table, date.time, dplyr, tidyverse, plotly, viridis, Shiny)\n",
      "\n",
      "MS Office Suite: Word, Excel, Power Point, One Driver, Teams\n",
      "\n",
      "==================================\u001b[1m Ai Message \u001b[0m==================================\n",
      "\n",
      "Based on your resume, here is a ranking of potential job roles that align with your education, skills, and experience:\n",
      "\n",
      "### 1. **Data Scientist**\n",
      "   - **Education**: Master of Public Policy (MPP) with a specialization in Data Analytics.\n",
      "   - **Skills**: Machine Learning, NLP, Deep Learning, Data Visualization, Python, R.\n",
      "   - **Experience**: Statistical Intern (UN Statistics Division), Data Science Fellow (RAFI), Data Analytics Fellow (Illinois Department of Employment Safety).\n",
      "\n",
      "### 2. **Data Analyst**\n",
      "   - **Education**: Master of Public Policy (MPP) with a specialization in Data Analytics.\n",
      "   - **Skills**: Data collection, management, cleaning, manipulation, analysis, visualization, SQL, R, Python.\n",
      "   - **Experience**: Research Analysis Intern (Illinois Criminal Justice Information Authority), Data Analytics Fellow (Illinois Department of Employment Safety).\n",
      "\n",
      "### 3. **Public Policy Analyst**\n",
      "   - **Education**: Master of Public Policy (MPP).\n",
      "   - **Skills**: Public Policy analysis, modeling and research for transportation policy, healthcare policy, urban policy.\n",
      "   - **Experience**: Various internships and fellowships related to public policy and data analysis.\n",
      "\n",
      "### 4. **Machine Learning Engineer**\n",
      "   - **Education**: Master of Public Policy (MPP) with a specialization in Data Analytics.\n",
      "   - **Skills**: Machine Learning, feature engineering, dimensionality reduction, regularization, tree-based models, SVM, clustering, KNN.\n",
      "   - **Experience**: Statistical Intern (UN Statistics Division), Data Science Fellow (RAFI).\n",
      "\n",
      "### 5. **Data Engineer**\n",
      "   - **Education**: Master of Public Policy (MPP) with a specialization in Data Analytics.\n",
      "   - **Skills**: ETL pipeline, data management, SQL, PostgreSQL, Python, R.\n",
      "   - **Experience**: Research Analysis Intern (Illinois Criminal Justice Information Authority), Data Science Fellow (RAFI).\n",
      "\n",
      "### 6. **Business Intelligence Analyst**\n",
      "   - **Education**: Master of Public Policy (MPP) with a specialization in Data Analytics.\n",
      "   - **Skills**: Dashboard design, interactive chatbot, database management, automated workflows, data visualization.\n",
      "   - **Experience**: Data Science Fellow (RAFI), Data Analytics Fellow (Illinois Department of Employment Safety).\n",
      "\n",
      "### 7. **AI Solutions Architect**\n",
      "   - **Education**: Master of Public Policy (MPP) with a specialization in Data Analytics.\n",
      "   - **Skills**: AI solutions, API integration, AWS cloud, prompt engineering, UI/UX design, data migration, deployment.\n",
      "   - **Experience**: Statistical Intern (UN Statistics Division), Data Science Fellow (RAFI).\n",
      "\n",
      "### 8. **Research Analyst**\n",
      "   - **Education**: Dual Bachelor of Laws and English, Master of Public Policy (MPP).\n",
      "   - **Skills**: Research, data analysis, policy analysis.\n",
      "   - **Experience**: Research Analysis Intern (Illinois Criminal Justice Information Authority), various internships and fellowships.\n",
      "\n",
      "### 9. **NLP Specialist**\n",
      "   - **Education**: Master of Public Policy (MPP) with a specialization in Data Analytics.\n",
      "   - **Skills**: NLP, tokenization, summarization, embeddings, sentiment analysis, knowledge graphs, named entity recognition.\n",
      "   - **Experience**: Statistical Intern (UN Statistics Division), Data Science Fellow (RAFI).\n",
      "\n",
      "### 10. **GIS Specialist**\n",
      "    - **Education**: Master of Public Policy (MPP) with a specialization in Data Analytics.\n",
      "    - **Skills**: GIS, data visualization, spatial analysis.\n",
      "    - **Experience**: Various internships and fellowships related to data analytics and public policy.\n",
      "\n",
      "This ranking considers your educational background, technical skills, and practical experience to match you with roles that would likely be a good fit.\n"
     ]
    }
   ],
   "source": [
    "for step in agent_executor.stream(\n",
    "    {\"messages\": [HumanMessage(content=prompt)]},\n",
    "    stream_mode=\"values\",\n",
    "):\n",
    "    step[\"messages\"][-1].pretty_print()"
   ]
  },
  {
   "cell_type": "markdown",
   "id": "9705faf4",
   "metadata": {},
   "source": [
    "### Add in memory"
   ]
  },
  {
   "cell_type": "code",
   "execution_count": 39,
   "id": "73a9ff7e",
   "metadata": {},
   "outputs": [],
   "source": [
    "from langgraph.checkpoint.memory import MemorySaver\n",
    "\n",
    "memory = MemorySaver()"
   ]
  },
  {
   "cell_type": "code",
   "execution_count": 40,
   "id": "c6bcc537",
   "metadata": {},
   "outputs": [],
   "source": [
    "agent_executor = create_react_agent(model, tools, checkpointer=memory)\n",
    "\n",
    "config = {\"configurable\": {\"thread_id\": \"abc123\"}}"
   ]
  },
  {
   "cell_type": "code",
   "execution_count": 42,
   "id": "4124bbf0",
   "metadata": {},
   "outputs": [
    {
     "name": "stdout",
     "output_type": "stream",
     "text": [
      "{'agent': {'messages': [AIMessage(content='Based on your resume, here are some job roles that would be a good match for your education, skills, and experience:\\n\\n1. **Data Scientist**\\n   - Your experience with machine learning, NLP, and data visualization tools like Tableau, R, and Python makes you a strong candidate for data scientist roles.\\n   - Your experience at RAFI and the Illinois Department of Employment Security shows your ability to work on real-world data science projects.\\n\\n2. **Data Analyst**\\n   - Your education in data analytics and experience with data collection, cleaning, and analysis make you a good fit for data analyst roles.\\n   - Your experience at the Illinois Criminal Justice Information Authority demonstrates your ability to handle large datasets and conduct statistical analysis.\\n\\n3. **Public Policy Analyst**\\n   - Your education in public policy and experience with policy analysis make you a strong candidate for public policy analyst roles.\\n   - Your experience at the Illinois Department of Employment Security shows your ability to apply data analysis to policy issues.\\n\\n4. **Data Engineer**\\n   - Your experience with ETL pipelines, data management, and SQL makes you a good fit for data engineer roles.\\n   - Your experience at the Illinois Criminal Justice Information Authority demonstrates your ability to handle large datasets and automate data processes.\\n\\n5. **AI/ML Engineer**\\n   - Your experience with machine learning, AI solutions, and prompt engineering makes you a strong candidate for AI/ML engineer roles.\\n   - Your experience at the United Nations Statistics Division shows your ability to work with AI models and optimize their performance.\\n\\n6. **GIS Specialist**\\n   - Your experience with GIS and data visualization tools makes you a good fit for GIS specialist roles.\\n   - Your experience at RAFI demonstrates your ability to use GIS tools for real-world applications.\\n\\n7. **Research Analyst**\\n   - Your experience with research, data analysis, and publication makes you a strong candidate for research analyst roles.\\n   - Your publication on the veil of darkness analysis shows your ability to conduct and publish research.\\n\\n8. **Data Science Consultant**\\n   - Your diverse experience in data science, public policy, and GIS makes you a good fit for a data science consultant role.\\n   - Your experience at the Data Science Clinic shows your ability to work with clients and provide data-driven solutions.\\n\\nWhen applying, be sure to tailor your resume and cover letter to each role, highlighting the most relevant skills and experiences. Good luck with your job search!', additional_kwargs={}, response_metadata={'token_usage': {'prompt_tokens': 1329, 'total_tokens': 1821, 'completion_tokens': 492}, 'model_name': 'mistral-small-latest', 'model': 'mistral-small-latest', 'finish_reason': 'stop'}, id='run--99cc6fd7-e647-485b-8d02-304a2b82d2ba-0', usage_metadata={'input_tokens': 1329, 'output_tokens': 492, 'total_tokens': 1821})]}}\n",
      "----\n"
     ]
    }
   ],
   "source": [
    "for chunk in agent_executor.stream(\n",
    "    {\"messages\": [HumanMessage(content=doc_text)]}, config\n",
    "):\n",
    "    print(chunk)\n",
    "    print(\"----\")"
   ]
  }
 ],
 "metadata": {
  "kernelspec": {
   "display_name": "hackathon",
   "language": "python",
   "name": "python3"
  },
  "language_info": {
   "codemirror_mode": {
    "name": "ipython",
    "version": 3
   },
   "file_extension": ".py",
   "mimetype": "text/x-python",
   "name": "python",
   "nbconvert_exporter": "python",
   "pygments_lexer": "ipython3",
   "version": "3.13.3"
  }
 },
 "nbformat": 4,
 "nbformat_minor": 5
}

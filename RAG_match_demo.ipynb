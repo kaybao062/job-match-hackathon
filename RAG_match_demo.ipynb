{
 "cells": [
  {
   "cell_type": "markdown",
   "metadata": {},
   "source": [
    "## RAG demo\n",
    "### Match resume with a list of JD (from Adzuna)"
   ]
  },
  {
   "cell_type": "code",
   "execution_count": 75,
   "metadata": {},
   "outputs": [],
   "source": [
    "from langchain_community.document_loaders import SeleniumURLLoader\n",
    "from langchain_text_splitters import RecursiveCharacterTextSplitter\n",
    "from langchain_core.vectorstores import InMemoryVectorStore\n",
    "from langchain_ollama import OllamaEmbeddings\n",
    "from langchain_core.prompts import ChatPromptTemplate\n",
    "from langchain_ollama.llms import OllamaLLM\n",
    "from langchain_huggingface import HuggingFaceEmbeddings\n",
    "from langchain.schema import Document\n",
    "from langchain_community.document_loaders import Docx2txtLoader\n",
    "from dotenv import load_dotenv\n",
    "import os\n",
    "\n",
    "import requests"
   ]
  },
  {
   "cell_type": "markdown",
   "metadata": {},
   "source": [
    "### Initiate vector store model and llm model"
   ]
  },
  {
   "cell_type": "code",
   "execution_count": null,
   "metadata": {},
   "outputs": [
    {
     "name": "stderr",
     "output_type": "stream",
     "text": [
      "No sentence-transformers model found with name sentence-transformers/all-MiniLM-L6-v2. Creating a new one with mean pooling.\n"
     ]
    }
   ],
   "source": [
    "embeddings = HuggingFaceEmbeddings(model_name=\"sentence-transformers/all-MiniLM-L6-v2\")\n",
    "vector_store = InMemoryVectorStore(embeddings)\n"
   ]
  },
  {
   "cell_type": "code",
   "execution_count": 33,
   "metadata": {},
   "outputs": [],
   "source": [
    "model = OllamaLLM(model=\"llama3.2\")"
   ]
  },
  {
   "cell_type": "markdown",
   "metadata": {},
   "source": [
    "### Job query - Adzuna"
   ]
  },
  {
   "cell_type": "code",
   "execution_count": 76,
   "metadata": {},
   "outputs": [],
   "source": [
    "load_dotenv()  # Loads variables from .env into environment\n",
    "\n",
    "app_id = os.getenv(\"app_id\")\n",
    "app_key = os.getenv(\"app_key\")"
   ]
  },
  {
   "cell_type": "code",
   "execution_count": 78,
   "metadata": {},
   "outputs": [
    {
     "name": "stdout",
     "output_type": "stream",
     "text": [
      "Loaded 20 job listings as LangChain Documents.\n"
     ]
    }
   ],
   "source": [
    "\n",
    "# Define the endpoint and query parameters\n",
    "url = 'http://api.adzuna.com/v1/api/jobs/gb/search/2'\n",
    "\n",
    "params = {\n",
    "    'app_id': app_id,\n",
    "    'app_key': app_key,\n",
    "    'results_per_page': 20,\n",
    "    'what': 'data scientist',\n",
    "    'content-type': 'application/json'\n",
    "}\n",
    "\n",
    "# Make the GET request\n",
    "response = requests.get(url, params=params)\n",
    "\n",
    "# initiate langchain documents\n",
    "documents = []\n",
    "\n",
    "# Check if it worked\n",
    "if response.status_code == 200:\n",
    "    data = response.json()  # Parse JSON response\n",
    "    for job in data.get('results', []):\n",
    "        content = f\"Title: {job.get('title')}\\n\\nDescription: {job.get('description')}\"\n",
    "        metadata = {\n",
    "            \"id\": job.get(\"id\"),\n",
    "            \"company\": job.get(\"company\", {}).get(\"display_name\"),\n",
    "            \"location\": job.get(\"location\", {}).get(\"display_name\"),\n",
    "            \"salary_min\": job.get(\"salary_min\"),\n",
    "            \"salary_max\": job.get(\"salary_max\"),\n",
    "            \"url\": job.get(\"redirect_url\")\n",
    "        }\n",
    "\n",
    "        documents.append(Document(page_content=content, metadata=metadata))\n",
    "\n",
    "    # documents now contains LangChain Document objects\n",
    "    print(f\"Loaded {len(documents)} job listings as LangChain Documents.\")\n",
    "else:\n",
    "    print(\"Error:\", response.status_code, response.text)"
   ]
  },
  {
   "cell_type": "code",
   "execution_count": 79,
   "metadata": {},
   "outputs": [
    {
     "data": {
      "text/plain": [
       "[Document(metadata={'id': '5123040031', 'company': 'Aviva', 'location': 'Norwich, Norfolk', 'salary_min': 59776.69, 'salary_max': 59776.69, 'url': 'https://www.adzuna.co.uk/jobs/land/ad/5123040031?se=JqAONdwY8BGlD81SPiZXLA&utm_medium=api&utm_source=ad3ef867&v=E0BEAF007B584B3D4E6DDE94799DF5042F848491'}, page_content=\"Title: Lead Data Scientist\\n\\nDescription: Lead Data Scientist Salary: London £60,000 - £75,000 / National £50,000 - £65,000 Are you excited by innovation and keen to deliver meaningful change? Would you like the chance to help shape a new Data Science team, working together to uncover opportunity and solve real business problems in an exciting growing area. If yes, then you may be the perfect fit for this opportunity to make your mark as a Lead Data Scientist within Aviva's new Global Corporate & Specialty (GCS) Data and AI Team. The i…\"),\n",
       " Document(metadata={'id': '5124103180', 'company': 'GMA Consulting', 'location': 'Bristol, South West England', 'salary_min': 100000, 'salary_max': 100000, 'url': 'https://www.adzuna.co.uk/jobs/details/5124103180?utm_medium=api&utm_source=ad3ef867'}, page_content=\"Title: Lead Data Scientist - Bristol\\n\\nDescription: Lead Data Scientist - Bristol THIS IS A HYBRID ROLE, YOU MUST BE ABLE TO COMMUTE TO BRISTOL EXCELLENT BENEFITS PACKAGE AND WORKING ENVIRONMENT The Company: The company is a leader in its field and is an Insurance business with an excellent reputation both in the UK and abroad. The Role: Lead Data Scientist To lead the data science initiatives and drive innovation in the healthcare industry. You'll have the opportunity to leverage your expertise in data analysis and machine learning within a dyn…\"),\n",
       " Document(metadata={'id': '5141588745', 'company': 'HM TREASURY-1', 'location': 'London, UK', 'salary_min': 38430, 'salary_max': 52080, 'url': 'https://www.adzuna.co.uk/jobs/land/ad/5141588745?se=JqAONdwY8BGlD81SPiZXLA&utm_medium=api&utm_source=ad3ef867&v=DC9833989524374CF2E5C5AF2962046E41ADC331'}, page_content='Title: Economist/Data Scientist\\n\\nDescription: Salary: £38,430 - £52,080 Contract Type: Permanent / Loan Working Pattern: This post is available on a full-time, part-time or job-share basis, and flexible working hours can be accommodated. Location: London Looking to elevate your career with an outstanding opportunity at the Office for Budget Responsibility? If you want a pivotal role in crafting our economic analysis and forecasts, take part in ambitious projects, and use your proven skills to drive a significant impact, then this could be …'),\n",
       " Document(metadata={'id': '5098885755', 'company': 'SAGE GROUP PLC', 'location': 'Newcastle Upon Tyne, Tyne & Wear', 'salary_min': 40073.73, 'salary_max': 40073.73, 'url': 'https://www.adzuna.co.uk/jobs/land/ad/5098885755?se=JqAONdwY8BGlD81SPiZXLA&utm_medium=api&utm_source=ad3ef867&v=FD59ADA4407287A6A3B314762B49EEF3BA1FC3F5'}, page_content='Title: Senior Data Scientist\\n\\nDescription: We are seeking a highly motivated and analytical Senior Data Scientist to join our growing team. You will be joining a growing team which is engaged in a variety of exciting new projects which are crucial for the continued success of Sage. As a Senior Data Scientist, you will have the opportunity to take a leading role in driving best practices, decision-making and mentorship within the team - engaging in both hands-on technical implementation of Machine Learning (and AI) models as well as work…'),\n",
       " Document(metadata={'id': '5110235854', 'company': 'American Express', 'location': 'UK', 'salary_min': 62517.96, 'salary_max': 62517.96, 'url': 'https://www.adzuna.co.uk/jobs/land/ad/5110235854?se=JqAONdwY8BGlD81SPiZXLA&utm_medium=api&utm_source=ad3ef867&v=70FC18C0310A603EC262782F0F026F45309E2977'}, page_content='Title: Manager - Data Science\\n\\nDescription: With the right backing, people and businesses have the power to progress in incredible ways. When you join Team Amex, you become part of a global and diverse community of colleagues with an unwavering commitment to back our customers, communities and each other. Here, you’ll learn and grow as we help you create a career journey that’s unique and meaningful to you with benefits, programs, and flexibility that support you personally and professionally. At American Express, you’ll be recognized fo…'),\n",
       " Document(metadata={'id': '5124360502', 'company': 'Heart Mind Talent', 'location': 'London, UK', 'salary_min': 54298.1, 'salary_max': 54298.1, 'url': 'https://www.adzuna.co.uk/jobs/land/ad/5124360502?se=JqAONdwY8BGlD81SPiZXLA&utm_medium=api&utm_source=ad3ef867&v=F8DD5FFD9E625A5C24976810D7DBD9A28E7BFDAA'}, page_content='Title: Data Scientist\\n\\nDescription: Heart Mind Talent is proud to partner with a fast-growing, mission-driven startup that is building the future of the energy grid. Their goal is to optimize renewable energy usage, reduce CO₂ emissions, and make electricity greener and more affordable for everyone. As the energy system evolves at an unprecedented pace, innovative software solutions are critical in the fight for a net-zero future. This company’s cutting-edge platform leverages machine learning to shift energy consumption to times…'),\n",
       " Document(metadata={'id': '5139963968', 'company': 'Understanding Recruitment', 'location': 'London, UK', 'salary_min': 51261.1, 'salary_max': 51261.1, 'url': 'https://www.adzuna.co.uk/jobs/land/ad/5139963968?se=JqAONdwY8BGlD81SPiZXLA&utm_medium=api&utm_source=ad3ef867&v=FAB9A22AF3396224571EBED9F7504579767FCD7A'}, page_content=\"Title: Data Scientist\\n\\nDescription: We're looking for a Data Scientist to join a fast-growing Energy Tech startup building the critical infrastructure to accelerate net-zero goals. Backed by top VCs and angel investors (previously invested in Meta, BeReal, Slack, and more), this team is developing cutting-edge solutions to optimize energy usage - predicting and balancing demand in real time to shift consumption to greener, cheaper power. Location: London (Hybrid, 2–3 days in-office) Seniority: Hiring from Junior - Seniors  Why jo…\"),\n",
       " Document(metadata={'id': '5124366957', 'company': 'Understanding Recruitment', 'location': 'London, UK', 'salary_min': 55549.07, 'salary_max': 55549.07, 'url': 'https://www.adzuna.co.uk/jobs/land/ad/5124366957?se=JqAONdwY8BGlD81SPiZXLA&utm_medium=api&utm_source=ad3ef867&v=AC465E43FD9CB9842610AFA9CBA7EF19D9FEC039'}, page_content=\"Title: Data Scientist\\n\\nDescription: ⚡Data Scientist | London | Decarbonize the grid I'm searching for a Data Scientist to join a fast-growing Energy Tech startup that are building the critical infrastructure to accelerate our transition to net-zero and underpin a decarbonised energy system They are backed by top VCs & Angel Investors (previously invested in Meta, BeReal, Slack, and more) The team are hiring data scientists with a strong quantitative & algorithmic background to optimise energy usage in a net-zero electricity grid.…\"),\n",
       " Document(metadata={'id': '5124362992', 'company': 'Understanding Recruitment', 'location': 'London, UK', 'salary_min': 50256.44, 'salary_max': 50256.44, 'url': 'https://www.adzuna.co.uk/jobs/land/ad/5124362992?se=JqAONdwY8BGlD81SPiZXLA&utm_medium=api&utm_source=ad3ef867&v=C454A77E3FB1731FDE8C302DC03F573162DD67F5'}, page_content=\"Title: Data Scientist\\n\\nDescription: ⚡Quant/Algorithmic Data Scientist | London | Decarbonize the grid I'm searching for a Data Scientist (Quant / Power Trader) to join a fast-growing Energy Tech startup that are building the critical infrastructure to accelerate our transition to net-zero and underpin a decarbonized energy system They are backed by top VCs & Angel Investors (previously invested in Meta, BeReal, Slack, and more) The team are hiring data scientists with a strong quantitative & algorithmic background to optimize ene…\"),\n",
       " Document(metadata={'id': '5141658019', 'company': 'Understanding Recruitment', 'location': 'London, UK', 'salary_min': 56577.84, 'salary_max': 56577.84, 'url': 'https://www.adzuna.co.uk/jobs/land/ad/5141658019?se=JqAONdwY8BGlD81SPiZXLA&utm_medium=api&utm_source=ad3ef867&v=FF0285BF8BA79412ABBA1270AB4E288F157D5C47'}, page_content=\"Title: Data Scientist\\n\\nDescription: I'm searching for a Data Scientist to join a fast-growing Energy Tech startup that are building the critical infrastructure to accelerate our transition to net-zero and underpin a decarbonised energy system They are backed by top VCs & Angel Investors (previously invested in Meta, BeReal, Slack, and more) The team are hiring data scientists with a strong quantitative & algorithmic background to optimise energy usage in a net-zero electricity grid. This predicts and balances energy needs in real…\"),\n",
       " Document(metadata={'id': '5124373764', 'company': 'Indotronix Avani UK', 'location': 'Portsmouth, Hampshire', 'salary_min': 59449, 'salary_max': 59449, 'url': 'https://www.adzuna.co.uk/jobs/land/ad/5124373764?se=JqAONdwY8BGlD81SPiZXLA&utm_medium=api&utm_source=ad3ef867&v=05657876EEC04459D897C866C9E7F67C9BAC08D1'}, page_content='Title: Data Scientist\\n\\nDescription: Role: Senior/Lead Data Scientist Location: Hybrid – 1 day onsite a week Role Type: 6 months initially – rolling contract Salary: up to £650 a day – depending on experience About the Client: Our client is a globally recognised leader in defence, aerospace, and security, delivering advanced technology and innovative solutions to safeguard nations and drive global progress. With a strong commitment to excellence, they offer world-class engineering, advanced manufacturing, and mission-critical serv…'),\n",
       " Document(metadata={'id': '5141371904', 'company': 'Arthur', 'location': 'London, UK', 'salary_min': 50000, 'salary_max': 90000, 'url': 'https://www.adzuna.co.uk/jobs/land/ad/5141371904?se=JqAONdwY8BGlD81SPiZXLA&utm_medium=api&utm_source=ad3ef867&v=A9C7749B3BA26041D8BF40DF4888CE2A4A1853A8'}, page_content='Title: Pricing Data Scientist Remote\\n\\nDescription: I am working with an emerging Insurtech looking for a technical Pricing/data science professional. Seeking a proactive individual with a passion for data to join a small, high-performing team and play a key role in driving the business forward. They use an in-house pricing system combining traditional Emblem GLM models with machine learning models developed in Python.My client has an office based in London however, this role can be fully remote.Required skills: Proactive self-starter with a can…'),\n",
       " Document(metadata={'id': '5116635027', 'company': 'High Finance  Limited T/A HFG', 'location': 'London, UK', 'salary_min': 60000, 'salary_max': 90000, 'url': 'https://www.adzuna.co.uk/jobs/land/ad/5116635027?se=JqAONdwY8BGlD81SPiZXLA&utm_medium=api&utm_source=ad3ef867&v=3047BCFCA88D8D69C0335F3D54E062147D83EBBD'}, page_content='Title: Pricing Actuary/Data Scientist\\n\\nDescription: We have partnered with a leading personal lines insurer to find them a Pricing Actuary to join their rapidly growing team.This role involves building sophisticated risk, demand, and market models, conducting rigorous analyses, and providing actionable insights to optimise insurance pricing strategies. This role is not limited to but includes : Integrating telematics and other novel data sources to enhance pricing sophistication. Collaborating with the technical pricing, street pricing, and prod…'),\n",
       " Document(metadata={'id': '5142924742', 'company': 'Barclays UK', 'location': 'Northampton, Northamptonshire', 'salary_min': 26953.03, 'salary_max': 26953.03, 'url': 'https://www.adzuna.co.uk/jobs/land/ad/5142924742?se=JqAONdwY8BGlD81SPiZXLA&utm_medium=api&utm_source=ad3ef867&v=04B99E8286D0E269C1770E38DD31A1CB79500A5E'}, page_content=\"Title: Fraud Data Scientist\\n\\nDescription: As a Fraud Data Scientist on a 6 Month Secondment at Barclays, you will be responsible for the development and enhancement of fraud detection systems. Applying advanced analytical methods and data-driven approaches, you'll improve our ability to detect and prevent fraud across a variety of banking products and services. You'll work closely with other experts in the field, helping us stay one step ahead in addressing fraud risks. To be successful as a Fraud Data Scientist, you should have experi…\"),\n",
       " Document(metadata={'id': '5141945909', 'company': 'S&P Global', 'location': 'London, UK', 'salary_min': 55707.91, 'salary_max': 55707.91, 'url': 'https://www.adzuna.co.uk/jobs/land/ad/5141945909?se=JqAONdwY8BGlD81SPiZXLA&utm_medium=api&utm_source=ad3ef867&v=E7C8F1D4F3AAB3FB0EC6C3F78C2CE81F30D320C8'}, page_content='Title: Senior Data Scientist\\n\\nDescription: About the Role: Grade Level (for internal use): 10 The Team: The Capital IQ Solutions Data Science team supports the S&P Capital IQ Pro platform with innovative Data Science and Machine Learning solutions, utilizing the most advanced NLP Generative AI models. This role presents a unique opportunity for hands-on ML/NLP/Gen AI/LLM scientists and engineers to advance to the next step in their career journey and apply their technical expertise in NLP, deep learning, Gen AI, and LLMs to drive busine…'),\n",
       " Document(metadata={'id': '5062231385', 'company': 'BlackRock', 'location': 'Edinburgh, Scotland', 'salary_min': 75511.52, 'salary_max': 75511.52, 'url': 'https://www.adzuna.co.uk/jobs/land/ad/5062231385?se=JqAONdwY8BGlD81SPiZXLA&utm_medium=api&utm_source=ad3ef867&v=4057935A6C04D87EFB456CEBACC6041571A20909'}, page_content='Title: Data Scientist, Vice President\\n\\nDescription: Since our founding over 30 years ago, BlackRock has brought together great minds to drive innovation. From the beginning, we have been demonstrating technology for insight and efficiency to make our business better and to help clients realize the objectives they desire. At BlackRock, there is a rich problem space for data scientists and engineers across all areas of the business including investments, sales, marketing, operations, product, UX, etc. and the potential to have large scale impact. …'),\n",
       " Document(metadata={'id': '5140483404', 'company': 'Yolk Recruitment', 'location': 'Cardiff County, Wales', 'salary_min': 50000, 'salary_max': 50000, 'url': 'https://www.adzuna.co.uk/jobs/details/5140483404?utm_medium=api&utm_source=ad3ef867'}, page_content='Title: Principal Data Scientist and Senior Data Engineer\\n\\nDescription: Role: Principal Data Scientist and Senior Data Engineer Salary: £45,974 to £54,430 Location: Cardiff (hybrid) The Opportunity Yolk Recruitment are excited to be working with an innovation-driven civil service organisation as they journey through some incredible projects whilst prioritising forward thinking and excellent digital practices. Role Overview: This is chance to work in an organisation that uses data extensively to directly inform its work. As a key part of the data team, you will be s…'),\n",
       " Document(metadata={'id': '5124368287', 'company': 'Harnham', 'location': 'London, UK', 'salary_min': 85958.75, 'salary_max': 85958.75, 'url': 'https://www.adzuna.co.uk/jobs/land/ad/5124368287?se=JqAONdwY8BGlD81SPiZXLA&utm_medium=api&utm_source=ad3ef867&v=3B6BDDEA84752D2D354461756237545D2C109FB2'}, page_content='Title: Lead Data Scientist\\n\\nDescription: LEAD DATA SCIENTIST - Data Science/ML REMOTE - 1 day per month in Uxbridge Up to £100,000  car allowance  bonus COMPANY: We are working with a market leading Telecommunications company with an established Data Science and AI team to bring a Lead Data Scientist into the team. They already have a strong established DS/ML team but are looking to grow this. They are looking for a candidate with proven experience as both an individual contributor and a people manager. The role itself will be around …'),\n",
       " Document(metadata={'id': '5124359043', 'company': 'Harnham', 'location': 'London, UK', 'salary_min': 63708.83, 'salary_max': 63708.83, 'url': 'https://www.adzuna.co.uk/jobs/land/ad/5124359043?se=JqAONdwY8BGlD81SPiZXLA&utm_medium=api&utm_source=ad3ef867&v=ECC74E8256E7F9E0FAC00A3BF674F9E52FF425B2'}, page_content='Title: Principal Data Scientist\\n\\nDescription: Principal Data Scientist London - Hybrid (3 days a week) Up to £125,000  benefits This is a great opportunity for a Principal Data Scientist to join an exciting marketing consultancy - in an 80% hands-on, 20% technical leadership/management role. THE ROLE In this role you will: Drive machine learning projects across recommenders, segmentation, forecasting and optimising marketing spend Work on advanced projects across GenAI and NLP Work closely with an Engineering team, whilst remaining full st…'),\n",
       " Document(metadata={'id': '5139962559', 'company': 'Rise Technical', 'location': 'London, UK', 'salary_min': 73544.96, 'salary_max': 73544.96, 'url': 'https://www.adzuna.co.uk/jobs/land/ad/5139962559?se=JqAONdwY8BGlD81SPiZXLA&utm_medium=api&utm_source=ad3ef867&v=B015C9B48DC29EB66FA9441EC8D14E013AF88E55'}, page_content='Title: Senior Data Scientist\\n\\nDescription: Senior Data Scientist London – 4 Days on-site £65,000 - £110,000 DOE  Generous Equity  Unlimited Holiday This is an excellent opportunity for a Senior Data Scientist to join a rapidly growing start-up, where you will focus on analytics and modelling to interpret data. This company is a platform designed to simplify the hiring process for businesses and enable individuals to find flexible work opportunities. By connecting businesses with skilled professionals for short-term staffing needs, this …')]"
      ]
     },
     "execution_count": 79,
     "metadata": {},
     "output_type": "execute_result"
    }
   ],
   "source": [
    "documents"
   ]
  },
  {
   "cell_type": "markdown",
   "metadata": {},
   "source": [
    "### Chunk the text: no need since it's short"
   ]
  },
  {
   "cell_type": "code",
   "execution_count": null,
   "metadata": {},
   "outputs": [],
   "source": [
    "# def split_text(documents):\n",
    "#     text_splitter = RecursiveCharacterTextSplitter(\n",
    "#         chunk_size=1000,\n",
    "#         chunk_overlap=200,\n",
    "#         add_start_index=True\n",
    "#     )\n",
    "#     data = text_splitter.split_documents(documents)\n",
    "\n",
    "#     return data\n"
   ]
  },
  {
   "cell_type": "markdown",
   "metadata": {},
   "source": [
    "### Index docs"
   ]
  },
  {
   "cell_type": "code",
   "execution_count": 26,
   "metadata": {},
   "outputs": [
    {
     "data": {
      "text/plain": [
       "['c185421b-db3e-4a3e-a7dc-9cec5036d371',\n",
       " '46a521a5-6eba-4138-a21b-22cdd1348aab',\n",
       " 'f4a4113d-85e8-44f5-b898-a603e4debc7c',\n",
       " '436674a8-6c6b-40a5-8f3c-90a56008b333',\n",
       " '3840768c-ec57-4fc6-b852-b17596bfcddd',\n",
       " 'fa990f38-25f8-4f3a-a773-389a57936498',\n",
       " '61e7a073-9651-4fd4-a9c4-99a3f2ca5643',\n",
       " '845c61b2-7c74-4f41-adc9-10b6232c061b',\n",
       " '2fcb16b1-1d48-472f-b84c-4267759b6236',\n",
       " 'b34ed0a0-6d25-4054-8ddb-68a0b8f52705',\n",
       " '1a55663d-477e-495b-a217-7360919e006a',\n",
       " 'a15380c2-b8df-412d-9c4a-485137a65d85',\n",
       " 'f0c710e4-bd07-46ee-8e72-d1c8e865aee3',\n",
       " '51fbc6e4-753c-451e-ad7c-350faf4cf119',\n",
       " '21e902cd-bb2d-4fe5-af8e-af5fd6e96c21',\n",
       " '5453b51d-35b1-4659-a4bf-ecdd62fcc597',\n",
       " '3b48bae9-9cd9-4333-8d28-74933fe6f132',\n",
       " 'eace9265-c324-4308-9376-e4ad7e93fd04',\n",
       " 'a9560158-ddb0-474c-90bb-fdf125ec6154',\n",
       " '279e8a17-589e-4e79-b033-d8f47e99d451']"
      ]
     },
     "execution_count": 26,
     "metadata": {},
     "output_type": "execute_result"
    }
   ],
   "source": [
    "vector_store.add_documents(documents=documents)"
   ]
  },
  {
   "cell_type": "markdown",
   "metadata": {},
   "source": [
    "### Query and retrieval"
   ]
  },
  {
   "cell_type": "code",
   "execution_count": 53,
   "metadata": {},
   "outputs": [],
   "source": [
    "template = \"\"\"\n",
    "You are an assistant for job matching tasks. Use the following pieces of retrieved context (job description, job title) to find the job that suits the query (resume or cv) most. If you don't know the answer, just say that you don't know. \n",
    "Question: {question} \n",
    "Context: {context} \n",
    "Answer:\n",
    "\"\"\""
   ]
  },
  {
   "cell_type": "markdown",
   "metadata": {},
   "source": [
    "### Load and index resume"
   ]
  },
  {
   "cell_type": "code",
   "execution_count": 60,
   "metadata": {},
   "outputs": [
    {
     "data": {
      "text/plain": [
       "[Document(metadata={'source': 'resume.docx'}, page_content='YIJIN BAO\\n\\n\\t\\t+1-773-490-7200\\n\\n\\t\\tChicago, Illinois\\n\\n\\t\\tkay062@uchicago.edu, LinkedIn | GitHub\\n\\n\\n\\n\\n\\neducation\\n\\n\\tHarris School of Public Policy, University of Chicago\\tChicago, IL\\n\\n\\tData Analytics Specialization of Master of Public Policy (MPP), Graduate with Honor\\tJune 2024\\n\\nData Science: ETL pipeline, NLP, Deep Learning, Machine Learning, Computer Vision\\n\\nData Analytics: data collection, management, cleaning, manipulation, sanity check, analysis, visualization, GIS\\n\\nPublic Policy analysis: modeling and research for transportation policy, healthcare policy, urban policy\\n\\nBusiness data product: dashboard design, interactive chatbot, database management, automated workflows\\n\\n\\n\\n\\tShanghai International Studies University\\tShanghai, China\\n\\n\\tDual Bachelor of Laws and English, Outstanding Undergraduate Thesis Honor\\tJuly 2022\\n\\nInternational Law; International Economics Law; International Finance Law\\n\\nHonored Student Scholarship in 2018-2019 Academic Year\\n\\nStudent Union President (2020-2021): maintained alumni network and organize career networking events\\n\\n\\n\\nexperience\\n\\n\\tUnited nations statisticS DIVISION\\tHybrid\\n\\n\\tStatistical Intern using Python\\t February 2025 – June 2025\\n\\nDeveloped a web-scraping program using Amazon Bedrock, called Claude Sonnet 3 model and engineered prompt to optimize AI’s performance of the accurate collection of unstructured event data from international organizations’ websites\\n\\nAutomated and the scraping and processing of user interaction data of Global Network of Data Officers and Statisticians, continuously refining the process and analyzing participation trends to enhance outreach and network management\\n\\n\\n\\nIllinois Criminal Justice information authority\\t                                                                               Chicago, IL\\n\\n\\tState Government Agency | Research Analysis Intern using R, SQL\\tOct 2024 – Mar 2025, June 2023 – Aug 2023\\n\\nEngineered a highly automated data pipeline to efficiently extract from PDF, convert to R-readable format and integrate 50 years of federal disposition data, pre-processed data for analysis and conduct sanity check with complete documentation  \\n\\nCleaned, validated, and transformed a 20GB+ Illinois Traffic Stop dataset (2004–2022) to ensure data quality, standardize formats, and generate performance metrics, enabling statistical analysis of equity in police pull-overs, including visualizing hit rates and false alarm rates by race and police agency as part of the Veil of Darkness analysis\\n\\nAudited data of Illinois Death in Custody Reporting from 2019 to 2024 by developing a program to automate matching and identify unreported incidents through cross-referencing manually collected media-reported cases \\n\\n\\n\\n\\tRural Advancement Foundation International (RAFI)\\tChicago, IL\\n\\n\\tNGO for Economic Justice | Data science fellow at Data Science Clinic using Python\\t Jan 2024 – Mar 2024\\n\\nDeveloped and maintained a Streamlit dashboard to visualize 30 years of market trends across 3,455 auction houses, supporting RAFI’s efforts to convey findings to a Federal Government Agency for digitalization of contracts\\n\\nImproved a computer vision model’s poultry estimation accuracy by ~10% (~2,000 barns) using buffer analysis with Google Earth Engine, enhancing RAFI’s dashboard to capture market trends of 20,000+ poultry barns in North Carolina\\n\\nPresented a technical brief outlining data merging strategies, dashboard development, market capture and model enhancements to provide the client with a clear understanding of technical product and analysis results\\n\\n\\n\\n\\tIllinois department of employment safety\\tChicago, IL\\n\\n\\tState Employment Government Agency | Data analytics fellow at Policy Lab using R, Google Suites\\t Sept 2023 – Dec 2023\\n\\nSupported clients’ promotion of Unemployment Insurance equity by using SQL to extract datasets on 12,000 employees and 2,000+ applicants to create a merged individual level dataset with employment flux and application information\\n\\nDeveloped a metrics to identify the gap in laid-off workers’ participation in Unemployment Insurance and visualize it in Google Sheet and Slides to evaluate sectorial participation—region, industry, union vs. non-union, and company size\\n\\nCoordinated timely communications with the client on refining government outreach strategies and preventing further applicant attrition by maintaining information updates and delivering high-quality policy memo and presentation\\n\\n\\n\\n\\n\\nResearch publication\\n\\n\\tKuda-Singappulige, G., Green, E., Reichert, J., Bao Y., & Gruschow, K. (2025). Veil of darkness analysis of Illinois traffic stop data. Illinois Criminal Justice Information Authority.\\n\\nskills\\n\\n\\n\\nMS Office Suite: Word, Excel, Power Point, One Driver, Teams\\n\\nAI solutions: API integration, AWS cloud, prompt engineering, UI/UX design, data migration, deployment\\n\\nMachine Learning: feature engineering, dimensionality reduction, regularization, tree-based models, SVM, clustering, KNN\\n\\nData Visualization: Tableau, R(Shiny, sf, tmap, ggspatial, ggplot2), Python(Streamlit, GeoPandas, Seaborn, Matplotlib)\\n\\nNLP: Tokenization, summarization, embeddings, sentiment analysis, knowledge graphs, named entity recognition\\n\\nSQL, PostgreSQL: data management, filtering, aggregation, joining, extracting, interacting with R and Python\\n\\nPython (Boto, Langchain, Openai LLamaIndex, Pandas, NumPy, SpaCy, BeautifulSoup, Selenium)\\n\\nR (data.table, date.time, dplyr, tidyverse, plotly, viridis, Shiny)\\n\\nMS Office Suite: Word, Excel, Power Point, One Driver, Teams')]"
      ]
     },
     "execution_count": 60,
     "metadata": {},
     "output_type": "execute_result"
    }
   ],
   "source": [
    "# load the doc\n",
    "loader = Docx2txtLoader(\"resume.docx\")\n",
    "\n",
    "query = loader.load()\n",
    "\n",
    "query"
   ]
  },
  {
   "cell_type": "code",
   "execution_count": 68,
   "metadata": {},
   "outputs": [],
   "source": [
    "# Assume query is a LangChain Document\n",
    "if isinstance(query[0], Document):\n",
    "    query_text = query[0].page_content\n",
    "else:\n",
    "    query_text = query[0]  # If it's already a string"
   ]
  },
  {
   "cell_type": "markdown",
   "metadata": {},
   "source": [
    "### Invoke answer"
   ]
  },
  {
   "cell_type": "code",
   "execution_count": 72,
   "metadata": {},
   "outputs": [],
   "source": [
    "# Retrieval a list of documents based on similarity search\n",
    "retrieve_documents = vector_store.similarity_search(query_text)\n",
    "retrieve_documents[0]\n",
    "\n",
    "context = \"\\n\\n\".join([doc.page_content for doc in retrieve_documents])"
   ]
  },
  {
   "cell_type": "code",
   "execution_count": 74,
   "metadata": {},
   "outputs": [
    {
     "data": {
      "text/plain": [
       "\"Based on the provided context (resume or CV), I found a potential match for YIJIN BAO's skills:\\n\\n**Job Title: Data Scientist**\\n\\n**Location:** Farnborough, Hampshire\\n\\nThis job title aligns with YIJIN BAO's skills in Machine Learning, Data Visualization, Python, R, SQL, and other areas mentioned on their resume. Additionally, the role involves working with data integration, AI, and system optimization, which also matches YIJIN BAO's experience as a Data Science fellow at Illinois Department of Employment Safety.\\n\\nPlease note that without more information about YIJIN BAO's specific interests or preferences, it's difficult to confirm if this job is the best fit.\""
      ]
     },
     "execution_count": 74,
     "metadata": {},
     "output_type": "execute_result"
    }
   ],
   "source": [
    "prompt = ChatPromptTemplate.from_template(template)\n",
    "chain = prompt | model\n",
    "chain.invoke({\"question\": query_text, \"context\": context})"
   ]
  }
 ],
 "metadata": {
  "kernelspec": {
   "display_name": "panda-hack",
   "language": "python",
   "name": "python3"
  },
  "language_info": {
   "codemirror_mode": {
    "name": "ipython",
    "version": 3
   },
   "file_extension": ".py",
   "mimetype": "text/x-python",
   "name": "python",
   "nbconvert_exporter": "python",
   "pygments_lexer": "ipython3",
   "version": "3.12.9"
  }
 },
 "nbformat": 4,
 "nbformat_minor": 2
}

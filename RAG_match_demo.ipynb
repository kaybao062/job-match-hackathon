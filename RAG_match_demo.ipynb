{
 "cells": [
  {
   "cell_type": "markdown",
   "metadata": {},
   "source": [
    "## RAG demo\n",
    "### Match resume with a list of JD (from Adzuna)"
   ]
  },
  {
   "cell_type": "code",
   "execution_count": null,
   "metadata": {},
   "outputs": [],
   "source": [
    "# from langchain_community.document_loaders import SeleniumURLLoader\n",
    "# from langchain_text_splitters import RecursiveCharacterTextSplitter\n",
    "from langchain_core.vectorstores import InMemoryVectorStore\n",
    "# from langchain_ollama import OllamaEmbeddings\n",
    "from langchain_core.prompts import ChatPromptTemplate\n",
    "from langchain_ollama.llms import OllamaLLM\n",
    "from langchain_huggingface import HuggingFaceEmbeddings\n",
    "from langchain.schema import Document\n",
    "from langchain_community.document_loaders import Docx2txtLoader\n",
    "from dotenv import load_dotenv\n",
    "import os\n",
    "\n",
    "import requests"
   ]
  },
  {
   "cell_type": "markdown",
   "metadata": {},
   "source": [
    "### Initiate vector store model and llm model"
   ]
  },
  {
   "cell_type": "code",
   "execution_count": 3,
   "metadata": {},
   "outputs": [
    {
     "name": "stderr",
     "output_type": "stream",
     "text": [
      "/Users/kay/Desktop/job-match-hackathon/panda-hack/lib/python3.12/site-packages/tqdm/auto.py:21: TqdmWarning: IProgress not found. Please update jupyter and ipywidgets. See https://ipywidgets.readthedocs.io/en/stable/user_install.html\n",
      "  from .autonotebook import tqdm as notebook_tqdm\n"
     ]
    }
   ],
   "source": [
    "embeddings = HuggingFaceEmbeddings(model_name=\"sentence-transformers/all-MiniLM-L6-v2\")\n",
    "vector_store = InMemoryVectorStore(embeddings)\n"
   ]
  },
  {
   "cell_type": "code",
   "execution_count": 4,
   "metadata": {},
   "outputs": [],
   "source": [
    "model = OllamaLLM(model=\"llama3.2\")"
   ]
  },
  {
   "cell_type": "markdown",
   "metadata": {},
   "source": [
    "### Job query - Adzuna"
   ]
  },
  {
   "cell_type": "code",
   "execution_count": 5,
   "metadata": {},
   "outputs": [],
   "source": [
    "load_dotenv()  # Loads variables from .env into environment\n",
    "\n",
    "app_id = os.getenv(\"app_id\")\n",
    "app_key = os.getenv(\"app_key\")"
   ]
  },
  {
   "cell_type": "code",
   "execution_count": 6,
   "metadata": {},
   "outputs": [
    {
     "name": "stdout",
     "output_type": "stream",
     "text": [
      "Loaded 20 job listings as LangChain Documents.\n"
     ]
    }
   ],
   "source": [
    "\n",
    "# Define the endpoint and query parameters\n",
    "url = 'http://api.adzuna.com/v1/api/jobs/gb/search/1'\n",
    "\n",
    "params = {\n",
    "    'app_id': app_id,\n",
    "    'app_key': app_key,\n",
    "    'results_per_page': 20,\n",
    "    'what': 'data scientist, remote',\n",
    "    'content-type': 'application/json'\n",
    "}\n",
    "\n",
    "# Make the GET request\n",
    "response = requests.get(url, params=params)\n",
    "\n",
    "# initiate langchain documents\n",
    "documents = []\n",
    "\n",
    "# Check if it worked\n",
    "if response.status_code == 200:\n",
    "    data = response.json()  # Parse JSON response\n",
    "    for job in data.get('results', []):\n",
    "        content = f\"Title: {job.get('title')}\\n\\nDescription: {job.get('description')}\"\n",
    "        metadata = {\n",
    "            \"id\": job.get(\"id\"),\n",
    "            \"company\": job.get(\"company\", {}).get(\"display_name\"),\n",
    "            \"location\": job.get(\"location\", {}).get(\"display_name\"),\n",
    "            \"salary_min\": job.get(\"salary_min\"),\n",
    "            \"salary_max\": job.get(\"salary_max\"),\n",
    "            \"url\": job.get(\"redirect_url\")\n",
    "        }\n",
    "\n",
    "        documents.append(Document(page_content=content, metadata=metadata))\n",
    "\n",
    "    # documents now contains LangChain Document objects\n",
    "    print(f\"Loaded {len(documents)} job listings as LangChain Documents.\")\n",
    "else:\n",
    "    print(\"Error:\", response.status_code, response.text)"
   ]
  },
  {
   "cell_type": "code",
   "execution_count": 7,
   "metadata": {},
   "outputs": [
    {
     "data": {
      "text/plain": [
       "[Document(metadata={'id': '5141371904', 'company': 'Arthur', 'location': 'London, UK', 'salary_min': 50000, 'salary_max': 90000, 'url': 'https://www.adzuna.co.uk/jobs/land/ad/5141371904?se=fvwobgEe8BG_XLfW0bWCew&utm_medium=api&utm_source=ad3ef867&v=A9C7749B3BA26041D8BF40DF4888CE2A4A1853A8'}, page_content='Title: Pricing Data Scientist Remote\\n\\nDescription: I am working with an emerging Insurtech looking for a technical Pricing/data science professional. Seeking a proactive individual with a passion for data to join a small, high-performing team and play a key role in driving the business forward. They use an in-house pricing system combining traditional Emblem GLM models with machine learning models developed in Python.My client has an office based in London however, this role can be fully remote.Required skills: Proactive self-starter with a can…'),\n",
       " Document(metadata={'id': '5146547472', 'company': 'Exposed Solutions', 'location': 'Edinburgh Technopole, Milton Bridge', 'salary_min': 60000, 'salary_max': 80000, 'url': 'https://www.adzuna.co.uk/jobs/details/5146547472?utm_medium=api&utm_source=ad3ef867'}, page_content=\"Title: Data Scientist - Remote\\n\\nDescription: Our client is building the most advanced AI platform in their market. They help their clients service customers with unmatched speed and accuracy. The Opportunity: There're looking for a Senior Data Scientist with deep experience in computer vision to join a high-performance team. You’ll help push the boundaries of visual defect detection and predictive automation — solving real-world challenges. You’ll work on: • Training and deploying CV models for damage detection • Improving classification,…\"),\n",
       " Document(metadata={'id': '5149711163', 'company': 'Exposed Solutions', 'location': 'Hermiston, Currie', 'salary_min': 80000, 'salary_max': 80000, 'url': 'https://www.adzuna.co.uk/jobs/details/5149711163?utm_medium=api&utm_source=ad3ef867'}, page_content=\"Title: Data Scientist - Remote\\n\\nDescription: Our client is building the most advanced AI platform in their market. They help their clients service customers with unmatched speed and accuracy. The Opportunity: There're looking for a Senior Data Scientist with deep experience in computer vision to join a high-performance team. Youll help push the boundaries of visual defect detection and predictive automation solving real-world challenges. Youll work on: Training and deploying CV models for damage detection Improving classification, segment…\"),\n",
       " Document(metadata={'id': '5146709036', 'company': 'Exposed Solutions', 'location': 'Davidsons Mains, Edinburgh', 'salary_min': 60000, 'salary_max': 80000, 'url': 'https://www.adzuna.co.uk/jobs/details/5146709036?utm_medium=api&utm_source=ad3ef867'}, page_content=\"Title: Data Scientist - Remote\\n\\nDescription: Our client is building the most advanced AI platform in their market. They help their clients service customers with unmatched speed and accuracy. The Opportunity: There're looking for a Senior Data Scientist with deep experience in computer vision to join a high-performance team. You’ll help push the boundaries of visual defect detection and predictive automation — solving real-world challenges. You’ll work on: • Training and deploying CV models for damage detection • Improving classification,…\"),\n",
       " Document(metadata={'id': '5148228817', 'company': 'Exposed Solutions', 'location': 'Newbridge, Midlothian', 'salary_min': 80000, 'salary_max': 80000, 'url': 'https://www.adzuna.co.uk/jobs/details/5148228817?utm_medium=api&utm_source=ad3ef867'}, page_content=\"Title: Data Scientist - Remote\\n\\nDescription: Our client is building the most advanced AI platform in their market. They help their clients service customers with unmatched speed and accuracy. The Opportunity: There're looking for a Senior Data Scientist with deep experience in computer vision to join a high-performance team. Youll help push the boundaries of visual defect detection and predictive automation solving real-world challenges. Youll work on: Training and deploying CV models for damage detection Improving classification, segment…\"),\n",
       " Document(metadata={'id': '5118500609', 'company': 'Zenlaw', 'location': 'UK', 'salary_min': 45945.9, 'salary_max': 45945.9, 'url': 'https://www.adzuna.co.uk/jobs/details/5118500609?utm_medium=api&utm_source=ad3ef867'}, page_content='Title: Data Scientist - Remote position\\n\\nDescription: Description: At Zenlaw, we rely on data to guide our initiatives. This data helps to mold both our long-term strategy and our day-to-day operations. As a Data Scientist, you will be working with our engineering team to model complex problems and identify high-impact opportunities. You will be part of a high-energy, fast-paced team responsible for supporting initiatives and working on our ground-breaking AI models. Our full-stack Data Science Team uses Python for research and development. Our wi…'),\n",
       " Document(metadata={'id': '5154426482', 'company': 'ACLED', 'location': 'UK', 'salary_min': 36588.22, 'salary_max': 36588.22, 'url': 'https://www.adzuna.co.uk/jobs/details/5154426482?utm_medium=api&utm_source=ad3ef867'}, page_content='Title: Associate Data Scientist - Remote position\\n\\nDescription: About the organization Armed Conflict Location & Event Data (ACLED) is a disaggregated data collection, analysis, and crisis mapping institution. The ACLED team collects conflict information, conducts analysis to describe, explore, and test conflict scenarios, and makes both data and analysis open for free use by the public. ACLED’s work is regularly used to inform journalism, academic research, and public discourse on conflict, and to support practitioners and policymakers. ACLED is the highes…'),\n",
       " Document(metadata={'id': '5115275462', 'company': 'Storyblok', 'location': 'UK', 'salary_min': 48372.92, 'salary_max': 48372.92, 'url': 'https://www.adzuna.co.uk/jobs/details/5115275462?utm_medium=api&utm_source=ad3ef867'}, page_content='Title: Senior Data Scientist - Remote position\\n\\nDescription: Storyblok is the enterprise-ready headless CMS that empowers developers and marketers to bring ideas to market faster. It supports the entire content lifecycle—from creation and management to delivery—streamlining workflows, boosting productivity, and ensuring exceptional performance and accessibility. Storyblok frees you from the pain of legacy CMS platforms and empowers your teams to ship content quickly and build with complete flexibility. Designed for global scalability and secure collabora…'),\n",
       " Document(metadata={'id': '5145319014', 'company': 'Tenth Revolution Group', 'location': 'Holbeck, Leeds', 'salary_min': 45000, 'salary_max': 45000, 'url': 'https://www.adzuna.co.uk/jobs/land/ad/5145319014?se=fvwobgEe8BG_XLfW0bWCew&utm_medium=api&utm_source=ad3ef867&v=A910F37CA4BB8A87B699624603057D0283A62A74'}, page_content=\"Title: Data Scientist - Gen AI - Remote\\n\\nDescription: A growing Microsoft Partner Consultancy are looking for a passionate AI Consultant join their impressive team. The role is home-based, with some element of travel to client sites when required, and to regular company conferences and events. For this reason, they're able to consider candidates ac\"),\n",
       " Document(metadata={'id': '5144688947', 'company': 'Tenth Revolution Group', 'location': 'Manchester, Greater Manchester', 'salary_min': 45000, 'salary_max': 60000, 'url': 'https://www.adzuna.co.uk/jobs/details/5144688947?utm_medium=api&utm_source=ad3ef867'}, page_content=\"Title: Data Scientist - Gen AI - Remote\\n\\nDescription: A growing Microsoft Partner Consultancy are looking for a passionate AI Consultant join their impressive team. The role is home-based, with some element of travel to client sites when required, and to regular company conferences and events. For this reason, they're able to consider candidates across the UK. This role sits within their specialist AI Practice - focused on providing cutting-edge solutions for their clients using the latest AI tech including Gen-AI, Machine Learning, Open AI, Co-Pi…\"),\n",
       " Document(metadata={'id': '5144689391', 'company': 'Tenth Revolution Group', 'location': 'Exeter, Devon', 'salary_min': 45000, 'salary_max': 60000, 'url': 'https://www.adzuna.co.uk/jobs/details/5144689391?utm_medium=api&utm_source=ad3ef867'}, page_content=\"Title: Data Scientist - Gen AI - Remote\\n\\nDescription: A growing Microsoft Partner Consultancy are looking for a passionate AI Consultant join their impressive team. The role is home-based, with some element of travel to client sites when required, and to regular company conferences and events. For this reason, they're able to consider candidates across the UK. This role sits within their specialist AI Practice - focused on providing cutting-edge solutions for their clients using the latest AI tech including Gen-AI, Machine Learning, Open AI, Co-Pi…\"),\n",
       " Document(metadata={'id': '5144688112', 'company': 'Tenth Revolution Group', 'location': 'Birmingham, West Midlands', 'salary_min': 45000, 'salary_max': 60000, 'url': 'https://www.adzuna.co.uk/jobs/details/5144688112?utm_medium=api&utm_source=ad3ef867'}, page_content=\"Title: Data Scientist - Gen AI - Remote\\n\\nDescription: A growing Microsoft Partner Consultancy are looking for a passionate AI Consultant join their impressive team. The role is home-based, with some element of travel to client sites when required, and to regular company conferences and events. For this reason, they're able to consider candidates across the UK. This role sits within their specialist AI Practice - focused on providing cutting-edge solutions for their clients using the latest AI tech including Gen-AI, Machine Learning, Open AI, Co-Pi…\"),\n",
       " Document(metadata={'id': '5144658627', 'company': 'Tenth Revolution Group', 'location': 'Bristol, South West England', 'salary_min': 45000, 'salary_max': 60000, 'url': 'https://www.adzuna.co.uk/jobs/details/5144658627?utm_medium=api&utm_source=ad3ef867'}, page_content=\"Title: Data Scientist - Gen AI - Remote\\n\\nDescription: A growing Microsoft Partner Consultancy are looking for a passionate AI Consultant join their impressive team. The role is home-based, with some element of travel to client sites when required, and to regular company conferences and events. For this reason, they're able to consider candidates across the UK. This role sits within their specialist AI Practice - focused on providing cutting-edge solutions for their clients using the latest AI tech including Gen-AI, Machine Learning, Open AI, Co-Pi…\"),\n",
       " Document(metadata={'id': '5144659418', 'company': 'Tenth Revolution Group', 'location': 'Southampton, Hampshire', 'salary_min': 45000, 'salary_max': 60000, 'url': 'https://www.adzuna.co.uk/jobs/details/5144659418?utm_medium=api&utm_source=ad3ef867'}, page_content=\"Title: Data Scientist - Gen AI - Remote\\n\\nDescription: A growing Microsoft Partner Consultancy are looking for a passionate AI Consultant join their impressive team. The role is home-based, with some element of travel to client sites when required, and to regular company conferences and events. For this reason, they're able to consider candidates across the UK. This role sits within their specialist AI Practice - focused on providing cutting-edge solutions for their clients using the latest AI tech including Gen-AI, Machine Learning, Open AI, Co-Pi…\"),\n",
       " Document(metadata={'id': '5144659384', 'company': 'Tenth Revolution Group', 'location': 'Leeds, West Yorkshire', 'salary_min': 45000, 'salary_max': 60000, 'url': 'https://www.adzuna.co.uk/jobs/details/5144659384?utm_medium=api&utm_source=ad3ef867'}, page_content=\"Title: Data Scientist - Gen AI - Remote\\n\\nDescription: A growing Microsoft Partner Consultancy are looking for a passionate AI Consultant join their impressive team. The role is home-based, with some element of travel to client sites when required, and to regular company conferences and events. For this reason, they're able to consider candidates across the UK. This role sits within their specialist AI Practice - focused on providing cutting-edge solutions for their clients using the latest AI tech including Gen-AI, Machine Learning, Open AI, Co-Pi…\"),\n",
       " Document(metadata={'id': '5144726914', 'company': 'Tenth Revolution Group', 'location': 'Langford, Cullompton', 'salary_min': 45000, 'salary_max': 60000, 'url': 'https://www.adzuna.co.uk/jobs/details/5144726914?utm_medium=api&utm_source=ad3ef867'}, page_content=\"Title: Data Scientist - Gen AI - Remote\\n\\nDescription: A growing Microsoft Partner Consultancy are looking for a passionate AI Consultant join their impressive team. The role is home-based, with some element of travel to client sites when required, and to regular company conferences and events. For this reason, they're able to consider candidates across the UK. This role sits within their specialist AI Practice - focused on providing cutting-edge solutions for their clients using the latest AI tech including Gen-AI, Machine Learning, Open AI, Co-Pi…\"),\n",
       " Document(metadata={'id': '5145319102', 'company': 'Tenth Revolution Group', 'location': 'Deritend, Birmingham', 'salary_min': 45000, 'salary_max': 45000, 'url': 'https://www.adzuna.co.uk/jobs/land/ad/5145319102?se=fvwobgEe8BG_XLfW0bWCew&utm_medium=api&utm_source=ad3ef867&v=5A4DEF002E3EAA6F22EAFF4483D37273ECB1761F'}, page_content=\"Title: Data Scientist - Gen AI - Remote\\n\\nDescription: A growing Microsoft Partner Consultancy are looking for a passionate AI Consultant join their impressive team. The role is home-based, with some element of travel to client sites when required, and to regular company conferences and events. For this reason, they're able to consider candidates ac\"),\n",
       " Document(metadata={'id': '5145319097', 'company': 'Tenth Revolution Group', 'location': 'St. Leonards, Exeter', 'salary_min': 45000, 'salary_max': 45000, 'url': 'https://www.adzuna.co.uk/jobs/land/ad/5145319097?se=fvwobgEe8BG_XLfW0bWCew&utm_medium=api&utm_source=ad3ef867&v=DBE7D9EF6593FC0AB16B8441131B08261D6A9EFA'}, page_content=\"Title: Data Scientist - Gen AI - Remote\\n\\nDescription: A growing Microsoft Partner Consultancy are looking for a passionate AI Consultant join their impressive team. The role is home-based, with some element of travel to client sites when required, and to regular company conferences and events. For this reason, they're able to consider candidates ac\"),\n",
       " Document(metadata={'id': '5145319080', 'company': 'Tenth Revolution Group', 'location': 'Ocean Village, Southampton', 'salary_min': 45000, 'salary_max': 45000, 'url': 'https://www.adzuna.co.uk/jobs/land/ad/5145319080?se=fvwobgEe8BG_XLfW0bWCew&utm_medium=api&utm_source=ad3ef867&v=660F6E913C075E2951C1BFF677609E8367C44940'}, page_content=\"Title: Data Scientist - Gen AI - Remote\\n\\nDescription: A growing Microsoft Partner Consultancy are looking for a passionate AI Consultant join their impressive team. The role is home-based, with some element of travel to client sites when required, and to regular company conferences and events. For this reason, they're able to consider candidates ac\"),\n",
       " Document(metadata={'id': '5145319124', 'company': 'Tenth Revolution Group', 'location': \"Irlams O' Th' Height, Salford\", 'salary_min': 45000, 'salary_max': 45000, 'url': 'https://www.adzuna.co.uk/jobs/land/ad/5145319124?se=fvwobgEe8BG_XLfW0bWCew&utm_medium=api&utm_source=ad3ef867&v=5126A91BC63D1EE987CABFE34667238333E73144'}, page_content=\"Title: Data Scientist - Gen AI - Remote\\n\\nDescription: A growing Microsoft Partner Consultancy are looking for a passionate AI Consultant join their impressive team. The role is home-based, with some element of travel to client sites when required, and to regular company conferences and events. For this reason, they're able to consider candidates ac\")]"
      ]
     },
     "execution_count": 7,
     "metadata": {},
     "output_type": "execute_result"
    }
   ],
   "source": [
    "documents"
   ]
  },
  {
   "cell_type": "markdown",
   "metadata": {},
   "source": [
    "### Chunk the text: no need since it's short"
   ]
  },
  {
   "cell_type": "code",
   "execution_count": 38,
   "metadata": {},
   "outputs": [],
   "source": [
    "# def split_text(documents):\n",
    "#     text_splitter = RecursiveCharacterTextSplitter(\n",
    "#         chunk_size=1000,\n",
    "#         chunk_overlap=200,\n",
    "#         add_start_index=True\n",
    "#     )\n",
    "#     data = text_splitter.split_documents(documents)\n",
    "\n",
    "#     return data\n"
   ]
  },
  {
   "cell_type": "markdown",
   "metadata": {},
   "source": [
    "### Index docs"
   ]
  },
  {
   "cell_type": "code",
   "execution_count": 50,
   "metadata": {},
   "outputs": [
    {
     "data": {
      "text/plain": [
       "['01ed6e7e-bd4f-461d-8b3f-bfe02b0b55c9',\n",
       " 'b37ea729-0263-4273-924c-c77456972acc',\n",
       " 'd1e695a3-3fb8-4059-bfd8-77d90e60de82',\n",
       " 'b3d00db7-52f3-4e2c-a545-64abbe4ab625',\n",
       " 'bd752547-8777-48e3-b65b-4b1996e75fcf',\n",
       " 'ba8fc88f-cb5e-4c01-b877-a77d4921331e',\n",
       " 'f234df91-1efa-4b36-a016-9ad65df0acd2',\n",
       " '98772699-a525-45b7-a6a8-1bd244f9e163',\n",
       " 'f21314a6-96de-4b2a-9ed0-65279200b69b',\n",
       " '7c3c938e-57d8-4723-9a3e-6066c7180b5d',\n",
       " '4e850d1b-6cc5-4049-9ba0-3a69d92abf42',\n",
       " '82a5397b-21ad-464c-b475-ddb540e3d095',\n",
       " 'e7c6182a-ff4a-4fb2-ae44-0b91dd482e62',\n",
       " '3def8e07-9ee0-474d-98b2-da4f0a232fb5',\n",
       " 'a76de745-bb3a-4bb5-bc5b-794acbdff1bc',\n",
       " '6d6fce66-99d4-4b67-a057-f7c8f5107260',\n",
       " 'b8a937cb-91bc-4136-9786-a8f235e303c5',\n",
       " '21097689-043d-4a54-bf49-fa5e29848fbf',\n",
       " '9b40b079-e8a8-42a4-8485-3f96866c92d5',\n",
       " '6fb51a35-ec7a-416e-8228-72846f032dc9']"
      ]
     },
     "execution_count": 50,
     "metadata": {},
     "output_type": "execute_result"
    }
   ],
   "source": [
    "vector_store.add_documents(documents=documents)"
   ]
  },
  {
   "cell_type": "markdown",
   "metadata": {},
   "source": [
    "### Query and retrieval"
   ]
  },
  {
   "cell_type": "code",
   "execution_count": 40,
   "metadata": {},
   "outputs": [],
   "source": [
    "template = \"\"\"\n",
    "You are an assistant for job matching tasks. Based on how it align with the query (user's resume), order the retrieved jobs (context) and explain how you ranked. Returned a list of job titles of top 3 matches and their link. ”\n",
    "Question: {question} \n",
    "Context: {context} \n",
    "Answer:\n",
    "\"\"\""
   ]
  },
  {
   "cell_type": "markdown",
   "metadata": {},
   "source": [
    "### Load and index resume"
   ]
  },
  {
   "cell_type": "code",
   "execution_count": 41,
   "metadata": {},
   "outputs": [
    {
     "data": {
      "text/plain": [
       "[Document(metadata={'source': 'resume.docx'}, page_content='YIJIN BAO\\n\\n\\t\\t+1-773-490-7200\\n\\n\\t\\tChicago, Illinois\\n\\n\\t\\tkay062@uchicago.edu, LinkedIn | GitHub\\n\\n\\n\\n\\n\\neducation\\n\\n\\tHarris School of Public Policy, University of Chicago\\tChicago, IL\\n\\n\\tData Analytics Specialization of Master of Public Policy (MPP), Graduate with Honor\\tJune 2024\\n\\nData Science: ETL pipeline, NLP, Deep Learning, Machine Learning, Computer Vision\\n\\nData Analytics: data collection, management, cleaning, manipulation, sanity check, analysis, visualization, GIS\\n\\nPublic Policy analysis: modeling and research for transportation policy, healthcare policy, urban policy\\n\\nBusiness data product: dashboard design, interactive chatbot, database management, automated workflows\\n\\n\\n\\n\\tShanghai International Studies University\\tShanghai, China\\n\\n\\tDual Bachelor of Laws and English, Outstanding Undergraduate Thesis Honor\\tJuly 2022\\n\\nInternational Law; International Economics Law; International Finance Law\\n\\nHonored Student Scholarship in 2018-2019 Academic Year\\n\\nStudent Union President (2020-2021): maintained alumni network and organize career networking events\\n\\n\\n\\nexperience\\n\\n\\tUnited nations statisticS DIVISION\\tHybrid\\n\\n\\tStatistical Intern using Python\\t February 2025 – June 2025\\n\\nDeveloped a web-scraping program using Amazon Bedrock, called Claude Sonnet 3 model and engineered prompt to optimize AI’s performance of the accurate collection of unstructured event data from international organizations’ websites\\n\\nAutomated and the scraping and processing of user interaction data of Global Network of Data Officers and Statisticians, continuously refining the process and analyzing participation trends to enhance outreach and network management\\n\\n\\n\\nIllinois Criminal Justice information authority\\t                                                                               Chicago, IL\\n\\n\\tState Government Agency | Research Analysis Intern using R, SQL\\tOct 2024 – Mar 2025, June 2023 – Aug 2023\\n\\nEngineered a highly automated data pipeline to efficiently extract from PDF, convert to R-readable format and integrate 50 years of federal disposition data, pre-processed data for analysis and conduct sanity check with complete documentation  \\n\\nCleaned, validated, and transformed a 20GB+ Illinois Traffic Stop dataset (2004–2022) to ensure data quality, standardize formats, and generate performance metrics, enabling statistical analysis of equity in police pull-overs, including visualizing hit rates and false alarm rates by race and police agency as part of the Veil of Darkness analysis\\n\\nAudited data of Illinois Death in Custody Reporting from 2019 to 2024 by developing a program to automate matching and identify unreported incidents through cross-referencing manually collected media-reported cases \\n\\n\\n\\n\\tRural Advancement Foundation International (RAFI)\\tChicago, IL\\n\\n\\tNGO for Economic Justice | Data science fellow at Data Science Clinic using Python\\t Jan 2024 – Mar 2024\\n\\nDeveloped and maintained a Streamlit dashboard to visualize 30 years of market trends across 3,455 auction houses, supporting RAFI’s efforts to convey findings to a Federal Government Agency for digitalization of contracts\\n\\nImproved a computer vision model’s poultry estimation accuracy by ~10% (~2,000 barns) using buffer analysis with Google Earth Engine, enhancing RAFI’s dashboard to capture market trends of 20,000+ poultry barns in North Carolina\\n\\nPresented a technical brief outlining data merging strategies, dashboard development, market capture and model enhancements to provide the client with a clear understanding of technical product and analysis results\\n\\n\\n\\n\\tIllinois department of employment safety\\tChicago, IL\\n\\n\\tState Employment Government Agency | Data analytics fellow at Policy Lab using R, Google Suites\\t Sept 2023 – Dec 2023\\n\\nSupported clients’ promotion of Unemployment Insurance equity by using SQL to extract datasets on 12,000 employees and 2,000+ applicants to create a merged individual level dataset with employment flux and application information\\n\\nDeveloped a metrics to identify the gap in laid-off workers’ participation in Unemployment Insurance and visualize it in Google Sheet and Slides to evaluate sectorial participation—region, industry, union vs. non-union, and company size\\n\\nCoordinated timely communications with the client on refining government outreach strategies and preventing further applicant attrition by maintaining information updates and delivering high-quality policy memo and presentation\\n\\n\\n\\n\\n\\nResearch publication\\n\\n\\tKuda-Singappulige, G., Green, E., Reichert, J., Bao Y., & Gruschow, K. (2025). Veil of darkness analysis of Illinois traffic stop data. Illinois Criminal Justice Information Authority.\\n\\nskills\\n\\n\\n\\nMS Office Suite: Word, Excel, Power Point, One Driver, Teams\\n\\nAI solutions: API integration, AWS cloud, prompt engineering, UI/UX design, data migration, deployment\\n\\nMachine Learning: feature engineering, dimensionality reduction, regularization, tree-based models, SVM, clustering, KNN\\n\\nData Visualization: Tableau, R(Shiny, sf, tmap, ggspatial, ggplot2), Python(Streamlit, GeoPandas, Seaborn, Matplotlib)\\n\\nNLP: Tokenization, summarization, embeddings, sentiment analysis, knowledge graphs, named entity recognition\\n\\nSQL, PostgreSQL: data management, filtering, aggregation, joining, extracting, interacting with R and Python\\n\\nPython (Boto, Langchain, Openai LLamaIndex, Pandas, NumPy, SpaCy, BeautifulSoup, Selenium)\\n\\nR (data.table, date.time, dplyr, tidyverse, plotly, viridis, Shiny)\\n\\nMS Office Suite: Word, Excel, Power Point, One Driver, Teams')]"
      ]
     },
     "execution_count": 41,
     "metadata": {},
     "output_type": "execute_result"
    }
   ],
   "source": [
    "# load the doc\n",
    "loader = Docx2txtLoader(\"resume.docx\")\n",
    "\n",
    "query = loader.load()\n",
    "\n",
    "query"
   ]
  },
  {
   "cell_type": "code",
   "execution_count": 42,
   "metadata": {},
   "outputs": [],
   "source": [
    "# Assume query is a LangChain Document\n",
    "if isinstance(query[0], Document):\n",
    "    query_text = query[0].page_content\n",
    "else:\n",
    "    query_text = query[0]  # If it's already a string"
   ]
  },
  {
   "cell_type": "markdown",
   "metadata": {},
   "source": [
    "### Invoke answer"
   ]
  },
  {
   "cell_type": "code",
   "execution_count": 51,
   "metadata": {},
   "outputs": [],
   "source": [
    "# Retrieval top 5 jobs based on similarity search\n",
    "retrieve_documents = vector_store.similarity_search(query_text, k=5)\n",
    "retrieve_documents[0]\n",
    "\n",
    "context = \"\\n\\n\".join([doc.page_content for doc in retrieve_documents])"
   ]
  },
  {
   "cell_type": "code",
   "execution_count": 52,
   "metadata": {},
   "outputs": [
    {
     "data": {
      "text/plain": [
       "[Document(id='d18eb379-aad2-42cc-8272-9180733c1b2c', metadata={'id': '5120993680', 'company': 'Searchability  Ltd', 'location': 'Cheltenham, Gloucestershire', 'salary_min': 45000, 'salary_max': 75000, 'url': 'https://www.adzuna.co.uk/jobs/details/5120993680?utm_medium=api&utm_source=ad3ef867'}, page_content='Title: Data Scientist\\n\\nDescription: Salary: Up to £75k DOE  Bonuses & Benefits Location: Cheltenham (3 days on-site per week) Security Clearance: Active Enhanced DV (West) Required Key Skills: Machine Learning, AWS/Azure, Python, NLP, AI Who We Are? We are seeking a highly skilled Data Scientist with enhanced DV clearance to join a globally recognised leader in technology, consulting, and engineering services. Working across high-impact public and private sector projects, this role offers excellent career progression and the oppo…'),\n",
       " Document(id='d3dfc717-1194-4ea9-b812-263290a4d647', metadata={'id': '5125861695', 'company': 'Keller Executive Search', 'location': 'Camden Town, North West London', 'salary_min': 108000, 'salary_max': 156000, 'url': 'https://www.adzuna.co.uk/jobs/details/5125861695?utm_medium=api&utm_source=ad3ef867'}, page_content='Title: Data Scientist\\n\\nDescription: Keller Executive Search is currently looking for a talented Data Scientist to join their dynamic team. In this role, you will harness the power of data to derive insights and support key business decisions across a range of strategic initiatives. You will be responsible for utilizing advanced statistical methods, machine learning algorithms, and data visualization techniques to tackle complex data challenges. Your work will involve working with large datasets, conducting analyses, and presentin…'),\n",
       " Document(id='4ffd8ec9-e0b0-4302-b4b4-c6648d0acd34', metadata={'id': '5124562186', 'company': 'Keller Executive Search', 'location': 'Belfast, Northern Ireland', 'salary_min': 108000, 'salary_max': 156000, 'url': 'https://www.adzuna.co.uk/jobs/details/5124562186?utm_medium=api&utm_source=ad3ef867'}, page_content='Title: Data Scientist\\n\\nDescription: Keller Executive Search is currently looking for a talented Data Scientist to join their dynamic team. In this role, you will harness the power of data to derive insights and support key business decisions across a range of strategic initiatives. You will be responsible for utilizing advanced statistical methods, machine learning algorithms, and data visualization techniques to tackle complex data challenges. Your work will involve working with large datasets, conducting analyses, and presentin…'),\n",
       " Document(id='6d8972d4-b905-4836-83ed-f5b54e3f1283', metadata={'id': '5124562179', 'company': 'Keller Executive Search', 'location': 'Cardiff, Cardiff County', 'salary_min': 108000, 'salary_max': 156000, 'url': 'https://www.adzuna.co.uk/jobs/details/5124562179?utm_medium=api&utm_source=ad3ef867'}, page_content='Title: Data Scientist\\n\\nDescription: Keller Executive Search is currently looking for a talented Data Scientist to join their dynamic team. In this role, you will harness the power of data to derive insights and support key business decisions across a range of strategic initiatives. You will be responsible for utilizing advanced statistical methods, machine learning algorithms, and data visualization techniques to tackle complex data challenges. Your work will involve working with large datasets, conducting analyses, and presentin…'),\n",
       " Document(id='c347bb8f-b3f7-49cc-91a4-8caa0ca7b536', metadata={'id': '5124562175', 'company': 'Keller Executive Search', 'location': 'Manchester, Greater Manchester', 'salary_min': 108000, 'salary_max': 156000, 'url': 'https://www.adzuna.co.uk/jobs/details/5124562175?utm_medium=api&utm_source=ad3ef867'}, page_content='Title: Data Scientist\\n\\nDescription: Keller Executive Search is currently looking for a talented Data Scientist to join their dynamic team. In this role, you will harness the power of data to derive insights and support key business decisions across a range of strategic initiatives. You will be responsible for utilizing advanced statistical methods, machine learning algorithms, and data visualization techniques to tackle complex data challenges. Your work will involve working with large datasets, conducting analyses, and presentin…')]"
      ]
     },
     "execution_count": 52,
     "metadata": {},
     "output_type": "execute_result"
    }
   ],
   "source": [
    "retrieve_documents"
   ]
  },
  {
   "cell_type": "code",
   "execution_count": 45,
   "metadata": {},
   "outputs": [
    {
     "data": {
      "text/plain": [
       "\"Based on the provided user's resume, I have retrieved three job matches that align closely with their skills and experience. Here are the top 3 matches along with their descriptions and links:\\n\\n1. **Title: Data Scientist**\\n**Description:** Salary: Up to £75k DOE Bonuses & Benefits Location: Cheltenham (3 days on-site per week) Security Clearance: Active Enhanced DV (West) Required Key Skills: Machine Learning, AWS/Azure, Python, NLP, AI\\n**Link:** [https://www.relay.co.uk/](https://www.relay.co.uk/)\\nThis job match aligns with the user's expertise in machine learning, data science, and programming languages like Python. The role requires a high level of security clearance, which is also a relevant skill for the user.\\n\\n2. **Title: Data Scientist**\\n**Description:** Salary: Competitive Location: London\\n**Link:** [https://www.keller.co.uk/](https://www.keller.co.uk/)\\nThis job match aligns with the user's experience in data analysis and visualization, as well as their skills in machine learning and programming languages like Python.\\n\\n3. **Title: Data Scientist**\\n**Description:** Salary: £70k - £90k DOE Location: Cheltenham\\n**Link:** [https://www.relay.co.uk/](https://www.relay.co.uk/)\\nThis job match aligns with the user's expertise in data science, machine learning, and programming languages like Python. The role requires a high level of security clearance, which is also relevant for the user.\\n\\nI ranked these jobs based on the following factors:\\n\\n* Relevance: Alignment with the user's skills and experience\\n* Salary: Comparable salary ranges to the user's current or expected salary\\n* Location: Proximity to the user's location or willingness to relocate\\n* Security Clearance: Matching security clearance requirements, which is relevant for the user's profile\\n\\nPlease note that these job matches are based on the provided resume and may not be exhaustive. It's essential to research each job thoroughly and tailor your application to showcase your skills and experience.\""
      ]
     },
     "execution_count": 45,
     "metadata": {},
     "output_type": "execute_result"
    }
   ],
   "source": [
    "prompt = ChatPromptTemplate.from_template(template)\n",
    "chain = prompt | model\n",
    "chain.invoke({\"question\": query_text, \"context\": context})"
   ]
  },
  {
   "cell_type": "code",
   "execution_count": 47,
   "metadata": {},
   "outputs": [
    {
     "data": {
      "text/plain": [
       "[Document(id='d18eb379-aad2-42cc-8272-9180733c1b2c', metadata={'id': '5120993680', 'company': 'Searchability  Ltd', 'location': 'Cheltenham, Gloucestershire', 'salary_min': 45000, 'salary_max': 75000, 'url': 'https://www.adzuna.co.uk/jobs/details/5120993680?utm_medium=api&utm_source=ad3ef867'}, page_content='Title: Data Scientist\\n\\nDescription: Salary: Up to £75k DOE  Bonuses & Benefits Location: Cheltenham (3 days on-site per week) Security Clearance: Active Enhanced DV (West) Required Key Skills: Machine Learning, AWS/Azure, Python, NLP, AI Who We Are? We are seeking a highly skilled Data Scientist with enhanced DV clearance to join a globally recognised leader in technology, consulting, and engineering services. Working across high-impact public and private sector projects, this role offers excellent career progression and the oppo…'),\n",
       " Document(id='d3dfc717-1194-4ea9-b812-263290a4d647', metadata={'id': '5125861695', 'company': 'Keller Executive Search', 'location': 'Camden Town, North West London', 'salary_min': 108000, 'salary_max': 156000, 'url': 'https://www.adzuna.co.uk/jobs/details/5125861695?utm_medium=api&utm_source=ad3ef867'}, page_content='Title: Data Scientist\\n\\nDescription: Keller Executive Search is currently looking for a talented Data Scientist to join their dynamic team. In this role, you will harness the power of data to derive insights and support key business decisions across a range of strategic initiatives. You will be responsible for utilizing advanced statistical methods, machine learning algorithms, and data visualization techniques to tackle complex data challenges. Your work will involve working with large datasets, conducting analyses, and presentin…'),\n",
       " Document(id='6d8972d4-b905-4836-83ed-f5b54e3f1283', metadata={'id': '5124562179', 'company': 'Keller Executive Search', 'location': 'Cardiff, Cardiff County', 'salary_min': 108000, 'salary_max': 156000, 'url': 'https://www.adzuna.co.uk/jobs/details/5124562179?utm_medium=api&utm_source=ad3ef867'}, page_content='Title: Data Scientist\\n\\nDescription: Keller Executive Search is currently looking for a talented Data Scientist to join their dynamic team. In this role, you will harness the power of data to derive insights and support key business decisions across a range of strategic initiatives. You will be responsible for utilizing advanced statistical methods, machine learning algorithms, and data visualization techniques to tackle complex data challenges. Your work will involve working with large datasets, conducting analyses, and presentin…'),\n",
       " Document(id='fbaec718-20a8-40a2-b33e-c27640b3695f', metadata={'id': '5124562174', 'company': 'Keller Executive Search', 'location': 'UK', 'salary_min': 108000, 'salary_max': 156000, 'url': 'https://www.adzuna.co.uk/jobs/details/5124562174?utm_medium=api&utm_source=ad3ef867'}, page_content='Title: Data Scientist\\n\\nDescription: Keller Executive Search is currently looking for a talented Data Scientist to join their dynamic team. In this role, you will harness the power of data to derive insights and support key business decisions across a range of strategic initiatives. You will be responsible for utilizing advanced statistical methods, machine learning algorithms, and data visualization techniques to tackle complex data challenges. Your work will involve working with large datasets, conducting analyses, and presentin…'),\n",
       " Document(id='4ffd8ec9-e0b0-4302-b4b4-c6648d0acd34', metadata={'id': '5124562186', 'company': 'Keller Executive Search', 'location': 'Belfast, Northern Ireland', 'salary_min': 108000, 'salary_max': 156000, 'url': 'https://www.adzuna.co.uk/jobs/details/5124562186?utm_medium=api&utm_source=ad3ef867'}, page_content='Title: Data Scientist\\n\\nDescription: Keller Executive Search is currently looking for a talented Data Scientist to join their dynamic team. In this role, you will harness the power of data to derive insights and support key business decisions across a range of strategic initiatives. You will be responsible for utilizing advanced statistical methods, machine learning algorithms, and data visualization techniques to tackle complex data challenges. Your work will involve working with large datasets, conducting analyses, and presentin…')]"
      ]
     },
     "execution_count": 47,
     "metadata": {},
     "output_type": "execute_result"
    }
   ],
   "source": [
    "retrieve_documents"
   ]
  },
  {
   "cell_type": "markdown",
   "metadata": {},
   "source": [
    "\"Based on the provided context, I found a job that suits YIJIN BAO's skills and experience:\\n\\nTitle: Data Scientist\\n\\nLocation: Cheltenham (3 days on-site per week)\\n\\nSecurity Clearance: Active Enhanced DV (West) Required\\n\\nKey Skills: Machine Learning, AWS/Azure, Python, NLP, AI\\n\\nThe job description mentions the use of advanced statistical methods, machine learning algorithms, and data visualization techniques to tackle complex data challenges. YIJIN BAO's skills in machine learning, Python, NLP, and SQL align with the job requirements.\\n\\nAdditionally, the job description mentions working with large datasets, conducting analyses, and presenting findings, which are also areas where YIJIN BAO has demonstrated expertise through their experience as a Research Analysis Intern at Illinois Criminal Justice Information Authority.\"\n",
    "\n",
    "\n",
    "---------------------------------------------------------------------------\n",
    "\n",
    "\"Based on the provided user's resume, I have retrieved three job matches that align closely with their skills and experience. Here are the top 3 matches along with their descriptions and links:\\n\\n1. **Title: Data Scientist**\\n**Description:** Salary: Up to £75k DOE Bonuses & Benefits Location: Cheltenham (3 days on-site per week) Security Clearance: Active Enhanced DV (West) Required Key Skills: Machine Learning, AWS/Azure, Python, NLP, AI\\n**Link:** [https://www.relay.co.uk/](https://www.relay.co.uk/)\\nThis job match aligns with the user's expertise in machine learning, data science, and programming languages like Python. The role requires a high level of security clearance, which is also a relevant skill for the user.\\n\\n2. \n",
    "\n",
    "**Title: Data Scientist**\\n**Description:** Salary: Competitive Location: London\\n**Link:** [https://www.keller.co.uk/](https://www.keller.co.uk/)\\nThis job match aligns with the user's experience in data analysis and visualization, as well as their skills in machine learning and programming languages like Python.\\n\\n3. \n",
    "\n",
    "**Title: Data Scientist**\\n**Description:** Salary: £70k - £90k DOE Location: Cheltenham\\n**Link:** [https://www.relay.co.uk/](https://www.relay.co.uk/)\\nThis job match aligns with the user's expertise in data science, machine learning, and programming languages like Python. The role requires a high level of security clearance, which is also relevant for the user.\\n\\nI ranked these jobs based on the following factors:\\n\\n* Relevance: Alignment with the user's skills and experience\\n* Salary: Comparable salary ranges to the user's current or expected salary\\n* Location: Proximity to the user's location or willingness to relocate\\n* Security Clearance: Matching security clearance requirements, which is relevant for the user's profile\\n\\n\n",
    "\n",
    "Please note that these job matches are based on the provided resume and may not be exhaustive. It's essential to research each job thoroughly and tailor your application to showcase your skills and experience.\""
   ]
  }
 ],
 "metadata": {
  "kernelspec": {
   "display_name": "panda-hack",
   "language": "python",
   "name": "python3"
  },
  "language_info": {
   "codemirror_mode": {
    "name": "ipython",
    "version": 3
   },
   "file_extension": ".py",
   "mimetype": "text/x-python",
   "name": "python",
   "nbconvert_exporter": "python",
   "pygments_lexer": "ipython3",
   "version": "3.12.9"
  }
 },
 "nbformat": 4,
 "nbformat_minor": 2
}
